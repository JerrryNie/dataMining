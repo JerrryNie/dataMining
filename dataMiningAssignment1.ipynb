{
 "cells": [
  {
   "cell_type": "markdown",
   "metadata": {},
   "source": [
    "# 互评作业1: 数据探索性分析与数据预处理\n",
    "**姓名**：聂宇翔  \n",
    "**学号**：1120161722  \n",
    "**Github地址**：https://github.com/JerrryNie/dataMining"
   ]
  },
  {
   "cell_type": "markdown",
   "metadata": {},
   "source": [
    "# 内容  \n",
    "## 1. 数据集：Wine Reviews\n",
    "### 1.1. 数据可视化和摘要\n",
    "- **数据摘要**\n",
    "    - 数据信息概览\n",
    "    - 标称属性，给出每个可能聚会的频数\n",
    "\n",
    "    - 数值属性，给出5数概括及缺失值的个数\n",
    "\n",
    "- **数据可视化**\n",
    "    - 使用直方图、盒图等检查数据分布及离群点\n",
    "\n",
    "### 1.2 数据缺失的处理\n",
    "- **将缺失部分剔除**\n",
    "- **用最高频率值来填补缺失值**\n",
    "- **通过属性的相关关系来填补缺失值**\n",
    "- **通过数据对象之间的相似性来填补缺失值**\n",
    "\n",
    "## 2. 数据集：MLB Pitch Data 2015-2018\n",
    "### 2.1. 数据可视化和摘要\n",
    "- **数据摘要**\n",
    "    - 标称属性，给出每个可能聚会的频数\n",
    "\n",
    "    - 数值属性，给出5数概括及缺失值的个数\n",
    "\n",
    "- **数据可视化**\n",
    "    - 使用直方图、盒图等检查数据分布及离群点\n",
    "\n",
    "### 212.2 数据缺失的处理\n",
    "- **将缺失部分剔除**\n",
    "- **用最高频率值来填补缺失值**\n",
    "- **通过属性的相关关系来填补缺失值**\n",
    "- **通过数据对象之间的相似性来填补缺失值**"
   ]
  },
  {
   "cell_type": "markdown",
   "metadata": {},
   "source": [
    "## 1. 数据集：Wine Reviews"
   ]
  },
  {
   "cell_type": "code",
   "execution_count": 1,
   "metadata": {},
   "outputs": [],
   "source": [
    "import pandas as pd\n",
    "import numpy as np\n",
    "import statsmodels.api as sm\n",
    "%matplotlib inline\n",
    "from matplotlib import pyplot as plt"
   ]
  },
  {
   "cell_type": "code",
   "execution_count": 2,
   "metadata": {},
   "outputs": [],
   "source": [
    "wineReviewDataSet = pd.read_csv('winemag-data_first150k.csv')"
   ]
  },
  {
   "cell_type": "markdown",
   "metadata": {},
   "source": [
    "### 1.1. 数据可视化和摘要"
   ]
  },
  {
   "cell_type": "markdown",
   "metadata": {},
   "source": [
    "#### 1.1.1. 数据信息概览  \n",
    "在进行数据分析之前，对数据信息进行概览是十分有必要的。"
   ]
  },
  {
   "cell_type": "code",
   "execution_count": 3,
   "metadata": {},
   "outputs": [
    {
     "name": "stdout",
     "output_type": "stream",
     "text": [
      "object     8\n",
      "int64      2\n",
      "float64    1\n",
      "dtype: int64\n"
     ]
    }
   ],
   "source": [
    "print(wineReviewDataSet.dtypes.value_counts())"
   ]
  },
  {
   "cell_type": "markdown",
   "metadata": {},
   "source": [
    "所以说，该数据中具有的标称属性为8个，而数值属性为3个。"
   ]
  },
  {
   "cell_type": "markdown",
   "metadata": {},
   "source": [
    "然后我们对该数据集进行概要上的了解："
   ]
  },
  {
   "cell_type": "code",
   "execution_count": 4,
   "metadata": {},
   "outputs": [
    {
     "data": {
      "text/html": [
       "<div>\n",
       "<style scoped>\n",
       "    .dataframe tbody tr th:only-of-type {\n",
       "        vertical-align: middle;\n",
       "    }\n",
       "\n",
       "    .dataframe tbody tr th {\n",
       "        vertical-align: top;\n",
       "    }\n",
       "\n",
       "    .dataframe thead th {\n",
       "        text-align: right;\n",
       "    }\n",
       "</style>\n",
       "<table border=\"1\" class=\"dataframe\">\n",
       "  <thead>\n",
       "    <tr style=\"text-align: right;\">\n",
       "      <th></th>\n",
       "      <th>Unnamed: 0</th>\n",
       "      <th>country</th>\n",
       "      <th>description</th>\n",
       "      <th>designation</th>\n",
       "      <th>points</th>\n",
       "      <th>price</th>\n",
       "      <th>province</th>\n",
       "      <th>region_1</th>\n",
       "      <th>region_2</th>\n",
       "      <th>variety</th>\n",
       "      <th>winery</th>\n",
       "    </tr>\n",
       "  </thead>\n",
       "  <tbody>\n",
       "    <tr>\n",
       "      <th>0</th>\n",
       "      <td>0</td>\n",
       "      <td>US</td>\n",
       "      <td>This tremendous 100% varietal wine hails from ...</td>\n",
       "      <td>Martha's Vineyard</td>\n",
       "      <td>96</td>\n",
       "      <td>235.0</td>\n",
       "      <td>California</td>\n",
       "      <td>Napa Valley</td>\n",
       "      <td>Napa</td>\n",
       "      <td>Cabernet Sauvignon</td>\n",
       "      <td>Heitz</td>\n",
       "    </tr>\n",
       "    <tr>\n",
       "      <th>1</th>\n",
       "      <td>1</td>\n",
       "      <td>Spain</td>\n",
       "      <td>Ripe aromas of fig, blackberry and cassis are ...</td>\n",
       "      <td>Carodorum Selección Especial Reserva</td>\n",
       "      <td>96</td>\n",
       "      <td>110.0</td>\n",
       "      <td>Northern Spain</td>\n",
       "      <td>Toro</td>\n",
       "      <td>NaN</td>\n",
       "      <td>Tinta de Toro</td>\n",
       "      <td>Bodega Carmen Rodríguez</td>\n",
       "    </tr>\n",
       "    <tr>\n",
       "      <th>2</th>\n",
       "      <td>2</td>\n",
       "      <td>US</td>\n",
       "      <td>Mac Watson honors the memory of a wine once ma...</td>\n",
       "      <td>Special Selected Late Harvest</td>\n",
       "      <td>96</td>\n",
       "      <td>90.0</td>\n",
       "      <td>California</td>\n",
       "      <td>Knights Valley</td>\n",
       "      <td>Sonoma</td>\n",
       "      <td>Sauvignon Blanc</td>\n",
       "      <td>Macauley</td>\n",
       "    </tr>\n",
       "    <tr>\n",
       "      <th>3</th>\n",
       "      <td>3</td>\n",
       "      <td>US</td>\n",
       "      <td>This spent 20 months in 30% new French oak, an...</td>\n",
       "      <td>Reserve</td>\n",
       "      <td>96</td>\n",
       "      <td>65.0</td>\n",
       "      <td>Oregon</td>\n",
       "      <td>Willamette Valley</td>\n",
       "      <td>Willamette Valley</td>\n",
       "      <td>Pinot Noir</td>\n",
       "      <td>Ponzi</td>\n",
       "    </tr>\n",
       "    <tr>\n",
       "      <th>4</th>\n",
       "      <td>4</td>\n",
       "      <td>France</td>\n",
       "      <td>This is the top wine from La Bégude, named aft...</td>\n",
       "      <td>La Brûlade</td>\n",
       "      <td>95</td>\n",
       "      <td>66.0</td>\n",
       "      <td>Provence</td>\n",
       "      <td>Bandol</td>\n",
       "      <td>NaN</td>\n",
       "      <td>Provence red blend</td>\n",
       "      <td>Domaine de la Bégude</td>\n",
       "    </tr>\n",
       "  </tbody>\n",
       "</table>\n",
       "</div>"
      ],
      "text/plain": [
       "   Unnamed: 0 country                                        description  \\\n",
       "0           0      US  This tremendous 100% varietal wine hails from ...   \n",
       "1           1   Spain  Ripe aromas of fig, blackberry and cassis are ...   \n",
       "2           2      US  Mac Watson honors the memory of a wine once ma...   \n",
       "3           3      US  This spent 20 months in 30% new French oak, an...   \n",
       "4           4  France  This is the top wine from La Bégude, named aft...   \n",
       "\n",
       "                            designation  points  price        province  \\\n",
       "0                     Martha's Vineyard      96  235.0      California   \n",
       "1  Carodorum Selección Especial Reserva      96  110.0  Northern Spain   \n",
       "2         Special Selected Late Harvest      96   90.0      California   \n",
       "3                               Reserve      96   65.0          Oregon   \n",
       "4                            La Brûlade      95   66.0        Provence   \n",
       "\n",
       "            region_1           region_2             variety  \\\n",
       "0        Napa Valley               Napa  Cabernet Sauvignon   \n",
       "1               Toro                NaN       Tinta de Toro   \n",
       "2     Knights Valley             Sonoma     Sauvignon Blanc   \n",
       "3  Willamette Valley  Willamette Valley          Pinot Noir   \n",
       "4             Bandol                NaN  Provence red blend   \n",
       "\n",
       "                    winery  \n",
       "0                    Heitz  \n",
       "1  Bodega Carmen Rodríguez  \n",
       "2                 Macauley  \n",
       "3                    Ponzi  \n",
       "4     Domaine de la Bégude  "
      ]
     },
     "execution_count": 4,
     "metadata": {},
     "output_type": "execute_result"
    }
   ],
   "source": [
    "wineReviewDataSet.head()"
   ]
  },
  {
   "cell_type": "markdown",
   "metadata": {},
   "source": [
    "所以说，该数据中具有的标称属性有7个（country, designation, province, region_1, region_2, variety, winery），\n",
    "而数值属性为2个（points, price）。"
   ]
  },
  {
   "cell_type": "markdown",
   "metadata": {},
   "source": [
    "#### 1.1.2. 数据摘要"
   ]
  },
  {
   "cell_type": "markdown",
   "metadata": {},
   "source": [
    "**标称属性摘要**\n",
    "我们将以上图所得的7个标称属性为目的，进行频数统计。为此我们首先定义一个函数colCntPlot用于对数据集中特定的列进行频数统计并利用直方图对前10个频率最高的值进行可视化。"
   ]
  },
  {
   "cell_type": "code",
   "execution_count": 5,
   "metadata": {},
   "outputs": [],
   "source": [
    "def colCntPlot(data, colName, top=10):\n",
    "    col = data[colName].value_counts()\n",
    "    itemNum = len(col)\n",
    "    print('The colunm name is:', colName)\n",
    "    print('There are {} different values.\\n'.format(itemNum))\n",
    "    print('There are {} values in total.\\n'.format(len(data.index)))\n",
    "    col_df = col.to_frame()\n",
    "    col_df['frequency'] = col.apply(lambda x: x / len(data.index))\n",
    "    col_df.rename(columns={colName: 'valueCounts'}, inplace=True)\n",
    "    print('The most {} frequent values are:'.format(top))\n",
    "    print(col_df.iloc[:top])\n",
    "    plt.bar(np.arange(top), col.iloc[:top])\n",
    "    plt.title(colName)\n",
    "    plt.show()\n",
    "    "
   ]
  },
  {
   "cell_type": "code",
   "execution_count": 6,
   "metadata": {},
   "outputs": [
    {
     "name": "stdout",
     "output_type": "stream",
     "text": [
      "The colunm name is: country\n",
      "There are 48 different values.\n",
      "\n",
      "There are 150930 values in total.\n",
      "\n",
      "The most 10 frequent values are:\n",
      "             valueCounts  frequency\n",
      "US                 62397   0.413417\n",
      "Italy              23478   0.155556\n",
      "France             21098   0.139787\n",
      "Spain               8268   0.054780\n",
      "Chile               5816   0.038534\n",
      "Argentina           5631   0.037309\n",
      "Portugal            5322   0.035261\n",
      "Australia           4957   0.032843\n",
      "New Zealand         3320   0.021997\n",
      "Austria             3057   0.020254\n"
     ]
    },
    {
     "data": {
      "image/png": "[encoded data removed]",
      "text/plain": [
       "<Figure size 432x288 with 1 Axes>"
      ]
     },
     "metadata": {},
     "output_type": "display_data"
    }
   ],
   "source": [
    "attributeName = 'country'\n",
    "topFrequency = 10\n",
    "colCntPlot(wineReviewDataSet, attributeName, topFrequency)"
   ]
  },
  {
   "cell_type": "code",
   "execution_count": 7,
   "metadata": {},
   "outputs": [
    {
     "name": "stdout",
     "output_type": "stream",
     "text": [
      "The colunm name is: designation\n",
      "There are 30621 different values.\n",
      "\n",
      "There are 150930 values in total.\n",
      "\n",
      "The most 10 frequent values are:\n",
      "                valueCounts  frequency\n",
      "Reserve                2752   0.018234\n",
      "Reserva                1810   0.011992\n",
      "Estate                 1571   0.010409\n",
      "Barrel sample          1326   0.008786\n",
      "Riserva                 754   0.004996\n",
      "Barrel Sample           639   0.004234\n",
      "Brut                    624   0.004134\n",
      "Crianza                 503   0.003333\n",
      "Estate Grown            449   0.002975\n",
      "Estate Bottled          396   0.002624\n"
     ]
    },
    {
     "data": {
      "image/png": "[encoded data removed]",
      "text/plain": [
       "<Figure size 432x288 with 1 Axes>"
      ]
     },
     "metadata": {},
     "output_type": "display_data"
    }
   ],
   "source": [
    "attributeName = 'designation'\n",
    "topFrequency = 10\n",
    "colCntPlot(wineReviewDataSet, attributeName, topFrequency)"
   ]
  },
  {
   "cell_type": "code",
   "execution_count": 8,
   "metadata": {},
   "outputs": [
    {
     "name": "stdout",
     "output_type": "stream",
     "text": [
      "The colunm name is: province\n",
      "There are 455 different values.\n",
      "\n",
      "There are 150930 values in total.\n",
      "\n",
      "The most 10 frequent values are:\n",
      "                  valueCounts  frequency\n",
      "California              44508   0.294892\n",
      "Washington               9750   0.064599\n",
      "Tuscany                  7281   0.048241\n",
      "Bordeaux                 6111   0.040489\n",
      "Northern Spain           4892   0.032412\n",
      "Mendoza Province         4742   0.031419\n",
      "Oregon                   4589   0.030405\n",
      "Burgundy                 4308   0.028543\n",
      "Piedmont                 4093   0.027119\n",
      "Veneto                   3962   0.026251\n"
     ]
    },
    {
     "data": {
      "image/png": "[encoded data removed]",
      "text/plain": [
       "<Figure size 432x288 with 1 Axes>"
      ]
     },
     "metadata": {},
     "output_type": "display_data"
    }
   ],
   "source": [
    "attributeName = 'province'\n",
    "topFrequency = 10\n",
    "colCntPlot(wineReviewDataSet, attributeName, topFrequency)"
   ]
  },
  {
   "cell_type": "code",
   "execution_count": 9,
   "metadata": {},
   "outputs": [
    {
     "name": "stdout",
     "output_type": "stream",
     "text": [
      "The colunm name is: region_1\n",
      "There are 1236 different values.\n",
      "\n",
      "There are 150930 values in total.\n",
      "\n",
      "The most 10 frequent values are:\n",
      "                      valueCounts  frequency\n",
      "Napa Valley                  6209   0.041138\n",
      "Columbia Valley (WA)         4975   0.032962\n",
      "Mendoza                      3586   0.023759\n",
      "Russian River Valley         3571   0.023660\n",
      "California                   3462   0.022938\n",
      "Paso Robles                  3053   0.020228\n",
      "Willamette Valley            2096   0.013887\n",
      "Rioja                        1893   0.012542\n",
      "Toscana                      1885   0.012489\n",
      "Sonoma County                1853   0.012277\n"
     ]
    },
    {
     "data": {
      "image/png": "[encoded data removed]",
      "text/plain": [
       "<Figure size 432x288 with 1 Axes>"
      ]
     },
     "metadata": {},
     "output_type": "display_data"
    }
   ],
   "source": [
    "attributeName = 'region_1'\n",
    "topFrequency = 10\n",
    "colCntPlot(wineReviewDataSet, attributeName, topFrequency)"
   ]
  },
  {
   "cell_type": "code",
   "execution_count": 10,
   "metadata": {},
   "outputs": [
    {
     "name": "stdout",
     "output_type": "stream",
     "text": [
      "The colunm name is: region_2\n",
      "There are 18 different values.\n",
      "\n",
      "There are 150930 values in total.\n",
      "\n",
      "The most 10 frequent values are:\n",
      "                         valueCounts  frequency\n",
      "Central Coast                  13057   0.086510\n",
      "Sonoma                         11258   0.074591\n",
      "Columbia Valley                 9157   0.060671\n",
      "Napa                            8801   0.058312\n",
      "California Other                3516   0.023296\n",
      "Willamette Valley               3181   0.021076\n",
      "Mendocino/Lake Counties         2389   0.015829\n",
      "Sierra Foothills                1660   0.010998\n",
      "Napa-Sonoma                     1645   0.010899\n",
      "Finger Lakes                    1510   0.010005\n"
     ]
    },
    {
     "data": {
      "image/png": "[encoded data removed]",
      "text/plain": [
       "<Figure size 432x288 with 1 Axes>"
      ]
     },
     "metadata": {},
     "output_type": "display_data"
    }
   ],
   "source": [
    "attributeName = 'region_2'\n",
    "topFrequency = 10\n",
    "colCntPlot(wineReviewDataSet, attributeName, topFrequency)"
   ]
  },
  {
   "cell_type": "code",
   "execution_count": 11,
   "metadata": {},
   "outputs": [
    {
     "name": "stdout",
     "output_type": "stream",
     "text": [
      "The colunm name is: variety\n",
      "There are 632 different values.\n",
      "\n",
      "There are 150930 values in total.\n",
      "\n",
      "The most 10 frequent values are:\n",
      "                          valueCounts  frequency\n",
      "Chardonnay                      14482   0.095952\n",
      "Pinot Noir                      14291   0.094686\n",
      "Cabernet Sauvignon              12800   0.084808\n",
      "Red Blend                       10062   0.066667\n",
      "Bordeaux-style Red Blend         7347   0.048678\n",
      "Sauvignon Blanc                  6320   0.041874\n",
      "Syrah                            5825   0.038594\n",
      "Riesling                         5524   0.036600\n",
      "Merlot                           5070   0.033592\n",
      "Zinfandel                        3799   0.025171\n"
     ]
    },
    {
     "data": {
      "image/png": "[encoded data removed]",
      "text/plain": [
       "<Figure size 432x288 with 1 Axes>"
      ]
     },
     "metadata": {},
     "output_type": "display_data"
    }
   ],
   "source": [
    "attributeName = 'variety'\n",
    "topFrequency = 10\n",
    "colCntPlot(wineReviewDataSet, attributeName, topFrequency)"
   ]
  },
  {
   "cell_type": "code",
   "execution_count": 12,
   "metadata": {},
   "outputs": [
    {
     "name": "stdout",
     "output_type": "stream",
     "text": [
      "The colunm name is: winery\n",
      "There are 14810 different values.\n",
      "\n",
      "There are 150930 values in total.\n",
      "\n",
      "The most 10 frequent values are:\n",
      "                       valueCounts  frequency\n",
      "Williams Selyem                374   0.002478\n",
      "Testarossa                     274   0.001815\n",
      "DFJ Vinhos                     258   0.001709\n",
      "Chateau Ste. Michelle          225   0.001491\n",
      "Columbia Crest                 217   0.001438\n",
      "Concha y Toro                  216   0.001431\n",
      "Kendall-Jackson                216   0.001431\n",
      "Trapiche                       205   0.001358\n",
      "Bouchard Père & Fils           203   0.001345\n",
      "Kenwood                        191   0.001265\n"
     ]
    },
    {
     "data": {
      "image/png": "[encoded data removed]",
      "text/plain": [
       "<Figure size 432x288 with 1 Axes>"
      ]
     },
     "metadata": {},
     "output_type": "display_data"
    }
   ],
   "source": [
    "attributeName = 'winery'\n",
    "topFrequency = 10\n",
    "colCntPlot(wineReviewDataSet, attributeName, topFrequency)"
   ]
  },
  {
   "cell_type": "markdown",
   "metadata": {},
   "source": [
    "**数值属性摘要**  \n",
    "该部分包括“数值数据摘要（五数概括）”以及“缺失值统计”"
   ]
  },
  {
   "cell_type": "markdown",
   "metadata": {},
   "source": [
    "数值数据摘要（五数概括）如下所示："
   ]
  },
  {
   "cell_type": "code",
   "execution_count": 13,
   "metadata": {},
   "outputs": [
    {
     "data": {
      "text/html": [
       "<div>\n",
       "<style scoped>\n",
       "    .dataframe tbody tr th:only-of-type {\n",
       "        vertical-align: middle;\n",
       "    }\n",
       "\n",
       "    .dataframe tbody tr th {\n",
       "        vertical-align: top;\n",
       "    }\n",
       "\n",
       "    .dataframe thead th {\n",
       "        text-align: right;\n",
       "    }\n",
       "</style>\n",
       "<table border=\"1\" class=\"dataframe\">\n",
       "  <thead>\n",
       "    <tr style=\"text-align: right;\">\n",
       "      <th></th>\n",
       "      <th>Unnamed: 0</th>\n",
       "      <th>points</th>\n",
       "      <th>price</th>\n",
       "    </tr>\n",
       "  </thead>\n",
       "  <tbody>\n",
       "    <tr>\n",
       "      <th>count</th>\n",
       "      <td>150930.000000</td>\n",
       "      <td>150930.000000</td>\n",
       "      <td>137235.000000</td>\n",
       "    </tr>\n",
       "    <tr>\n",
       "      <th>mean</th>\n",
       "      <td>75464.500000</td>\n",
       "      <td>87.888418</td>\n",
       "      <td>33.131482</td>\n",
       "    </tr>\n",
       "    <tr>\n",
       "      <th>std</th>\n",
       "      <td>43569.882402</td>\n",
       "      <td>3.222392</td>\n",
       "      <td>36.322536</td>\n",
       "    </tr>\n",
       "    <tr>\n",
       "      <th>min</th>\n",
       "      <td>0.000000</td>\n",
       "      <td>80.000000</td>\n",
       "      <td>4.000000</td>\n",
       "    </tr>\n",
       "    <tr>\n",
       "      <th>25%</th>\n",
       "      <td>37732.250000</td>\n",
       "      <td>86.000000</td>\n",
       "      <td>16.000000</td>\n",
       "    </tr>\n",
       "    <tr>\n",
       "      <th>50%</th>\n",
       "      <td>75464.500000</td>\n",
       "      <td>88.000000</td>\n",
       "      <td>24.000000</td>\n",
       "    </tr>\n",
       "    <tr>\n",
       "      <th>75%</th>\n",
       "      <td>113196.750000</td>\n",
       "      <td>90.000000</td>\n",
       "      <td>40.000000</td>\n",
       "    </tr>\n",
       "    <tr>\n",
       "      <th>max</th>\n",
       "      <td>150929.000000</td>\n",
       "      <td>100.000000</td>\n",
       "      <td>2300.000000</td>\n",
       "    </tr>\n",
       "  </tbody>\n",
       "</table>\n",
       "</div>"
      ],
      "text/plain": [
       "          Unnamed: 0         points          price\n",
       "count  150930.000000  150930.000000  137235.000000\n",
       "mean    75464.500000      87.888418      33.131482\n",
       "std     43569.882402       3.222392      36.322536\n",
       "min         0.000000      80.000000       4.000000\n",
       "25%     37732.250000      86.000000      16.000000\n",
       "50%     75464.500000      88.000000      24.000000\n",
       "75%    113196.750000      90.000000      40.000000\n",
       "max    150929.000000     100.000000    2300.000000"
      ]
     },
     "execution_count": 13,
     "metadata": {},
     "output_type": "execute_result"
    }
   ],
   "source": [
    "wineReviewDataSet.describe()"
   ]
  },
  {
   "cell_type": "markdown",
   "metadata": {},
   "source": [
    "其中需要注意的是，“Unnamed: 0”实际上是数据的id，因此不予考虑"
   ]
  },
  {
   "cell_type": "markdown",
   "metadata": {},
   "source": [
    "缺失值统计信息如下列信息所示："
   ]
  },
  {
   "cell_type": "code",
   "execution_count": 14,
   "metadata": {},
   "outputs": [
    {
     "data": {
      "text/plain": [
       "Unnamed: 0         0\n",
       "country            5\n",
       "description        0\n",
       "designation    45735\n",
       "points             0\n",
       "price          13695\n",
       "province           5\n",
       "region_1       25060\n",
       "region_2       89977\n",
       "variety            0\n",
       "winery             0\n",
       "dtype: int64"
      ]
     },
     "execution_count": 14,
     "metadata": {},
     "output_type": "execute_result"
    }
   ],
   "source": [
    "wineReviewDataSet.isna().sum()"
   ]
  },
  {
   "cell_type": "markdown",
   "metadata": {},
   "source": [
    "其中，“points”和“price”所对应的行即为数值数据的缺失值信息。"
   ]
  },
  {
   "cell_type": "markdown",
   "metadata": {},
   "source": [
    "#### 1.1.3. 数据可视化  \n",
    "该部分主要通过数据的“直方图”“盒图”来进行数据的可视化，并通过这两类图进行离群点分析。"
   ]
  },
  {
   "cell_type": "markdown",
   "metadata": {},
   "source": [
    "**直方图**  \n",
    "由于关于标称属性的直方图在前面内容中已经体现出来了，所以此处将对数值属性（points）和（price）进行直方图绘制。"
   ]
  },
  {
   "cell_type": "code",
   "execution_count": 15,
   "metadata": {},
   "outputs": [],
   "source": [
    "def plotHist(data, colName, divisionNum=20):\n",
    "    col = data[colName].dropna()\n",
    "    plt.hist(col, divisionNum)\n",
    "    plt.title(colName)\n",
    "    plt.show()"
   ]
  },
  {
   "cell_type": "code",
   "execution_count": 16,
   "metadata": {},
   "outputs": [
    {
     "data": {
      "image/png": "[encoded data removed]",
      "text/plain": [
       "<Figure size 432x288 with 1 Axes>"
      ]
     },
     "metadata": {},
     "output_type": "display_data"
    }
   ],
   "source": [
    "attributeName = 'points'\n",
    "plotHist(wineReviewDataSet, attributeName)"
   ]
  },
  {
   "cell_type": "code",
   "execution_count": 17,
   "metadata": {},
   "outputs": [
    {
     "data": {
      "image/png": "[encoded data removed]",
      "text/plain": [
       "<Figure size 432x288 with 1 Axes>"
      ]
     },
     "metadata": {},
     "output_type": "display_data"
    }
   ],
   "source": [
    "attributeName = 'price'\n",
    "plotHist(wineReviewDataSet, attributeName)"
   ]
  },
  {
   "cell_type": "markdown",
   "metadata": {},
   "source": [
    "**盒图**"
   ]
  },
  {
   "cell_type": "markdown",
   "metadata": {},
   "source": [
    "首先我们定义函数“boxPlot”用以对特定数据集下特定列的盒图进行绘制"
   ]
  },
  {
   "cell_type": "code",
   "execution_count": 18,
   "metadata": {},
   "outputs": [],
   "source": [
    "def boxPlot(data, colName):\n",
    "    fig, ax = plt.subplots()\n",
    "    ax.set_title(colName)\n",
    "    ax.boxplot(data[colName].dropna())\n",
    "    plt.show()"
   ]
  },
  {
   "cell_type": "markdown",
   "metadata": {},
   "source": [
    "绘制“points”的属性："
   ]
  },
  {
   "cell_type": "code",
   "execution_count": 19,
   "metadata": {},
   "outputs": [
    {
     "data": {
      "image/png": "[encoded data removed]",
      "text/plain": [
       "<Figure size 432x288 with 1 Axes>"
      ]
     },
     "metadata": {},
     "output_type": "display_data"
    }
   ],
   "source": [
    "attributeName = 'points'\n",
    "boxPlot(wineReviewDataSet, attributeName)"
   ]
  },
  {
   "cell_type": "markdown",
   "metadata": {},
   "source": [
    "由上图可以看出，关于“points”属性的离群点主要分布在数值较高的位置。"
   ]
  },
  {
   "cell_type": "markdown",
   "metadata": {},
   "source": [
    "绘制“price”的属性："
   ]
  },
  {
   "cell_type": "code",
   "execution_count": 20,
   "metadata": {},
   "outputs": [
    {
     "data": {
      "image/png": "[encoded data removed]",
      "text/plain": [
       "<Figure size 432x288 with 1 Axes>"
      ]
     },
     "metadata": {},
     "output_type": "display_data"
    }
   ],
   "source": [
    "attributeName = 'price'\n",
    "boxPlot(wineReviewDataSet, attributeName)"
   ]
  },
  {
   "cell_type": "markdown",
   "metadata": {},
   "source": [
    "由上图可以看出，关于“price”属性的离群点相对于数据集中区域的偏离程度较大。"
   ]
  },
  {
   "cell_type": "markdown",
   "metadata": {},
   "source": [
    "### 1.2. 数据缺失的处理"
   ]
  },
  {
   "cell_type": "markdown",
   "metadata": {},
   "source": [
    "首先需要导入winemag-data-130k-v2.csv文件，作为数据处理后的对比项。"
   ]
  },
  {
   "cell_type": "code",
   "execution_count": 21,
   "metadata": {},
   "outputs": [],
   "source": [
    "wineReviewDataSet130k = pd.read_csv('winemag-data-130k-v2.csv')"
   ]
  },
  {
   "cell_type": "markdown",
   "metadata": {},
   "source": [
    "### 1.2.1 将缺失部分剔除"
   ]
  },
  {
   "cell_type": "markdown",
   "metadata": {},
   "source": [
    "首先我们需要查看一下原数据中缺失数据的数据量"
   ]
  },
  {
   "cell_type": "markdown",
   "metadata": {},
   "source": [
    "我们定义函数\"plotOldNewStandard\"和\"plotOldNewStandardNominal\"分别用于数值属性和标称属性，对处理前的数据、处理后的数据以及130k这个版本的数据进行对比："
   ]
  },
  {
   "cell_type": "code",
   "execution_count": 22,
   "metadata": {},
   "outputs": [],
   "source": [
    "def plotOldNewStandard(colOld, colNew, colStandard, colName, showOld=True, divisionNum=20):\n",
    "    \n",
    "    colOld = colOld.dropna()\n",
    "    colNew = colNew.dropna()\n",
    "    colStandard = colStandard.dropna()\n",
    "    if showOld:\n",
    "        plt.figure(13)\n",
    "        plt.subplot(131)\n",
    "        plt.hist(colOld, divisionNum)\n",
    "        plt.title(colName + ' Old')\n",
    "\n",
    "        plt.subplot(132)\n",
    "        plt.hist(colNew, divisionNum)\n",
    "        plt.title(colName + ' New')\n",
    "\n",
    "        plt.subplot(133)\n",
    "        plt.hist(colNew, divisionNum)\n",
    "        plt.title(colName + ' 130k')\n",
    "\n",
    "        plt.tight_layout()\n",
    "        plt.show()\n",
    "    else:\n",
    "        plt.figure(12)\n",
    "        plt.subplot(121)\n",
    "        plt.hist(colNew, divisionNum)\n",
    "        plt.title(colName + ' New')\n",
    "        \n",
    "        plt.subplot(122)\n",
    "        colStandard = colStandard.dropna()\n",
    "        plt.hist(colStandard, divisionNum)\n",
    "        plt.title(colName + ' 130k')\n",
    "        \n",
    "        plt.tight_layout()\n",
    "        plt.show()\n",
    "\n",
    "def plotOldNewStandardNominal(colOld, colNew, colStandard, colName, showOld=True, top=10, divisionNum=20):\n",
    "    \n",
    "    colOld = colOld.value_counts()\n",
    "    colNew = colNew.value_counts()\n",
    "    colStandard = colStandard.value_counts()\n",
    "    \n",
    "    if showOld:\n",
    "        plt.figure(13)\n",
    "        \n",
    "        plt.subplot(131)\n",
    "        plt.bar(np.arange(top), colOld.iloc[:top])\n",
    "        plt.title(colName + ' Old')\n",
    "        \n",
    "        plt.subplot(132)\n",
    "        plt.bar(np.arange(top), colNew.iloc[:top])#plt.hist(colNew, divisionNum)\n",
    "        plt.title(colName + ' New')\n",
    "\n",
    "        plt.subplot(133)\n",
    "        plt.bar(np.arange(top), colStandard.iloc[:top])#plt.hist(colNew, divisionNum)\n",
    "        plt.title(colName + ' 130k')\n",
    "\n",
    "        plt.tight_layout()\n",
    "        plt.show()\n",
    "    else:\n",
    "        plt.figure(12)\n",
    "        plt.subplot(121)\n",
    "        plt.bar(np.arange(top), colNew.iloc[:top])#plt.hist(colNew, divisionNum)\n",
    "        plt.title(colName + ' New')\n",
    "        \n",
    "        plt.subplot(122)\n",
    "        colStandard = colStandard.dropna()\n",
    "        plt.bar(np.arange(top), colStandard.iloc[:top])#plt.hist(colStandard, divisionNum)\n",
    "        plt.title(colName + ' 130k')\n",
    "        \n",
    "        plt.tight_layout()\n",
    "        plt.show()\n"
   ]
  },
  {
   "cell_type": "markdown",
   "metadata": {},
   "source": [
    "对于属性“points”："
   ]
  },
  {
   "cell_type": "code",
   "execution_count": 23,
   "metadata": {},
   "outputs": [
    {
     "name": "stdout",
     "output_type": "stream",
     "text": [
      "nan size: 0\n"
     ]
    }
   ],
   "source": [
    "attributeName = 'points'\n",
    "col = wineReviewDataSet[attributeName]\n",
    "\n",
    "print('nan size:', col.isna().sum())"
   ]
  },
  {
   "cell_type": "markdown",
   "metadata": {},
   "source": [
    "由于该属性不存在缺失数据，因此无须处理（之后的数据缺失处理中，也将不再考虑该数据）。"
   ]
  },
  {
   "cell_type": "markdown",
   "metadata": {},
   "source": [
    "对于属性“price”："
   ]
  },
  {
   "cell_type": "code",
   "execution_count": 24,
   "metadata": {},
   "outputs": [
    {
     "name": "stdout",
     "output_type": "stream",
     "text": [
      "nan size: 13695\n"
     ]
    }
   ],
   "source": [
    "attributeName = 'price'\n",
    "col = wineReviewDataSet[attributeName]\n",
    "\n",
    "print('nan size:', col.isna().sum())"
   ]
  },
  {
   "cell_type": "markdown",
   "metadata": {},
   "source": [
    "剔除该属性中的缺失值并与旧数据和130k版本进行对比分析："
   ]
  },
  {
   "cell_type": "code",
   "execution_count": 25,
   "metadata": {},
   "outputs": [
    {
     "data": {
      "image/png": "[encoded data removed]",
      "text/plain": [
       "<Figure size 432x288 with 2 Axes>"
      ]
     },
     "metadata": {},
     "output_type": "display_data"
    }
   ],
   "source": [
    "colOld = wineReviewDataSet[attributeName]\n",
    "colNew = colOld.dropna()\n",
    "colStandard = wineReviewDataSet130k[attributeName]\n",
    "plotOldNewStandard(colOld=colOld, colNew=colNew, colStandard=colStandard, colName=attributeName, showOld=False)"
   ]
  },
  {
   "cell_type": "markdown",
   "metadata": {},
   "source": [
    "对于属性“country”："
   ]
  },
  {
   "cell_type": "code",
   "execution_count": 26,
   "metadata": {},
   "outputs": [
    {
     "name": "stdout",
     "output_type": "stream",
     "text": [
      "nan size: 5\n"
     ]
    }
   ],
   "source": [
    "attributeName = 'country'\n",
    "col = wineReviewDataSet[attributeName]\n",
    "\n",
    "print('nan size:', col.isna().sum())"
   ]
  },
  {
   "cell_type": "markdown",
   "metadata": {},
   "source": [
    "剔除该属性中的缺失值并与旧数据和130k版本进行对比分析："
   ]
  },
  {
   "cell_type": "code",
   "execution_count": 27,
   "metadata": {},
   "outputs": [
    {
     "data": {
      "image/png": "[encoded data removed]",
      "text/plain": [
       "<Figure size 432x288 with 2 Axes>"
      ]
     },
     "metadata": {},
     "output_type": "display_data"
    }
   ],
   "source": [
    "colOld = wineReviewDataSet[attributeName]\n",
    "colNew = colOld.dropna()\n",
    "colStandard = wineReviewDataSet130k[attributeName]\n",
    "plotOldNewStandardNominal(colOld=colOld, colNew=colNew, colStandard=colStandard, colName=attributeName, showOld=False)"
   ]
  },
  {
   "cell_type": "markdown",
   "metadata": {},
   "source": [
    "对于属性“designation”："
   ]
  },
  {
   "cell_type": "code",
   "execution_count": 28,
   "metadata": {},
   "outputs": [
    {
     "name": "stdout",
     "output_type": "stream",
     "text": [
      "nan size: 45735\n"
     ]
    }
   ],
   "source": [
    "attributeName = 'designation'\n",
    "col = wineReviewDataSet[attributeName]\n",
    "\n",
    "print('nan size:', col.isna().sum())"
   ]
  },
  {
   "cell_type": "markdown",
   "metadata": {},
   "source": [
    "剔除该属性中的缺失值并与旧数据和130k版本进行对比分析："
   ]
  },
  {
   "cell_type": "code",
   "execution_count": 29,
   "metadata": {},
   "outputs": [
    {
     "data": {
      "image/png": "[encoded data removed]",
      "text/plain": [
       "<Figure size 432x288 with 2 Axes>"
      ]
     },
     "metadata": {},
     "output_type": "display_data"
    }
   ],
   "source": [
    "colOld = wineReviewDataSet[attributeName]\n",
    "colNew = colOld.dropna()\n",
    "colStandard = wineReviewDataSet130k[attributeName]\n",
    "plotOldNewStandardNominal(colOld=colOld, colNew=colNew, colStandard=colStandard, colName=attributeName, showOld=False)"
   ]
  },
  {
   "cell_type": "markdown",
   "metadata": {},
   "source": [
    "对于属性“province”："
   ]
  },
  {
   "cell_type": "code",
   "execution_count": 30,
   "metadata": {},
   "outputs": [
    {
     "name": "stdout",
     "output_type": "stream",
     "text": [
      "nan size: 5\n"
     ]
    }
   ],
   "source": [
    "attributeName = 'province'\n",
    "col = wineReviewDataSet[attributeName]\n",
    "\n",
    "print('nan size:', col.isna().sum())"
   ]
  },
  {
   "cell_type": "markdown",
   "metadata": {},
   "source": [
    "剔除该属性中的缺失值并与旧数据和130k版本进行对比分析："
   ]
  },
  {
   "cell_type": "code",
   "execution_count": 31,
   "metadata": {},
   "outputs": [
    {
     "data": {
      "image/png": "[encoded data removed]",
      "text/plain": [
       "<Figure size 432x288 with 2 Axes>"
      ]
     },
     "metadata": {},
     "output_type": "display_data"
    }
   ],
   "source": [
    "colOld = wineReviewDataSet[attributeName]\n",
    "colNew = colOld.dropna()\n",
    "colStandard = wineReviewDataSet130k[attributeName]\n",
    "plotOldNewStandardNominal(colOld=colOld, colNew=colNew, colStandard=colStandard, colName=attributeName, showOld=False)"
   ]
  },
  {
   "cell_type": "markdown",
   "metadata": {},
   "source": [
    "对于属性“region_1”："
   ]
  },
  {
   "cell_type": "code",
   "execution_count": 32,
   "metadata": {},
   "outputs": [
    {
     "name": "stdout",
     "output_type": "stream",
     "text": [
      "nan size: 25060\n"
     ]
    }
   ],
   "source": [
    "attributeName = 'region_1'\n",
    "col = wineReviewDataSet[attributeName]\n",
    "\n",
    "print('nan size:', col.isna().sum())"
   ]
  },
  {
   "cell_type": "markdown",
   "metadata": {},
   "source": [
    "剔除该属性中的缺失值并与旧数据和130k版本进行对比分析："
   ]
  },
  {
   "cell_type": "code",
   "execution_count": 33,
   "metadata": {},
   "outputs": [
    {
     "data": {
      "image/png": "[encoded data removed]",
      "text/plain": [
       "<Figure size 432x288 with 2 Axes>"
      ]
     },
     "metadata": {},
     "output_type": "display_data"
    }
   ],
   "source": [
    "colOld = wineReviewDataSet[attributeName]\n",
    "colNew = colOld.dropna()\n",
    "colStandard = wineReviewDataSet130k[attributeName]\n",
    "plotOldNewStandardNominal(colOld=colOld, colNew=colNew, colStandard=colStandard, colName=attributeName, showOld=False)"
   ]
  },
  {
   "cell_type": "markdown",
   "metadata": {},
   "source": [
    "对于属性“region_2”："
   ]
  },
  {
   "cell_type": "code",
   "execution_count": 34,
   "metadata": {},
   "outputs": [
    {
     "name": "stdout",
     "output_type": "stream",
     "text": [
      "nan size: 89977\n"
     ]
    }
   ],
   "source": [
    "attributeName = 'region_2'\n",
    "col = wineReviewDataSet[attributeName]\n",
    "\n",
    "print('nan size:', col.isna().sum())"
   ]
  },
  {
   "cell_type": "markdown",
   "metadata": {},
   "source": [
    "剔除该属性中的缺失值并与旧数据和130k版本进行对比分析："
   ]
  },
  {
   "cell_type": "code",
   "execution_count": 35,
   "metadata": {},
   "outputs": [
    {
     "data": {
      "image/png": "[encoded data removed]",
      "text/plain": [
       "<Figure size 432x288 with 2 Axes>"
      ]
     },
     "metadata": {},
     "output_type": "display_data"
    }
   ],
   "source": [
    "colOld = wineReviewDataSet[attributeName]\n",
    "colNew = colOld.dropna()\n",
    "colStandard = wineReviewDataSet130k[attributeName]\n",
    "plotOldNewStandardNominal(colOld=colOld, colNew=colNew, colStandard=colStandard, colName=attributeName, showOld=False)"
   ]
  },
  {
   "cell_type": "markdown",
   "metadata": {},
   "source": [
    "对于属性“variety”："
   ]
  },
  {
   "cell_type": "code",
   "execution_count": 36,
   "metadata": {},
   "outputs": [
    {
     "name": "stdout",
     "output_type": "stream",
     "text": [
      "nan size: 0\n"
     ]
    }
   ],
   "source": [
    "attributeName = 'variety'\n",
    "col = wineReviewDataSet[attributeName]\n",
    "\n",
    "print('nan size:', col.isna().sum())"
   ]
  },
  {
   "cell_type": "markdown",
   "metadata": {},
   "source": [
    "由于该属性不存在缺失数据，因此无须处理（之后的数据缺失处理中，也将不再考虑该数据）。"
   ]
  },
  {
   "cell_type": "markdown",
   "metadata": {},
   "source": [
    "对于属性“winery”："
   ]
  },
  {
   "cell_type": "code",
   "execution_count": 37,
   "metadata": {},
   "outputs": [
    {
     "name": "stdout",
     "output_type": "stream",
     "text": [
      "nan size: 0\n"
     ]
    }
   ],
   "source": [
    "attributeName = 'winery'\n",
    "col = wineReviewDataSet[attributeName]\n",
    "\n",
    "print('nan size:', col.isna().sum())"
   ]
  },
  {
   "cell_type": "markdown",
   "metadata": {},
   "source": [
    "由于该属性不存在缺失数据，因此无须处理（之后的数据缺失处理中，也将不再考虑该数据）。"
   ]
  },
  {
   "cell_type": "markdown",
   "metadata": {},
   "source": [
    "### 1.2.2 用最高频率值来填补缺失值"
   ]
  },
  {
   "cell_type": "markdown",
   "metadata": {},
   "source": [
    "对于属性“price”，处理方法如下："
   ]
  },
  {
   "cell_type": "code",
   "execution_count": 38,
   "metadata": {},
   "outputs": [],
   "source": [
    "attributeName = 'price'"
   ]
  },
  {
   "cell_type": "markdown",
   "metadata": {},
   "source": [
    "将该属性处理前的数据、处理后的数据以及winemag-data-130k-v2该属性的数据进行可视化对比："
   ]
  },
  {
   "cell_type": "code",
   "execution_count": 39,
   "metadata": {},
   "outputs": [
    {
     "data": {
      "image/png": "[encoded data removed]",
      "text/plain": [
       "<Figure size 432x288 with 3 Axes>"
      ]
     },
     "metadata": {},
     "output_type": "display_data"
    }
   ],
   "source": [
    "colOld = wineReviewDataSet[attributeName]\n",
    "colNew = colOld.fillna(colOld.mode()[0])\n",
    "colStandard = wineReviewDataSet130k[attributeName]\n",
    "plotOldNewStandard(colOld=colOld, colNew=colNew, colStandard=colStandard, colName=attributeName, showOld=True)"
   ]
  },
  {
   "cell_type": "markdown",
   "metadata": {},
   "source": [
    "对于属性“country”，处理方法如下："
   ]
  },
  {
   "cell_type": "code",
   "execution_count": 40,
   "metadata": {},
   "outputs": [],
   "source": [
    "attributeName = 'country'"
   ]
  },
  {
   "cell_type": "markdown",
   "metadata": {},
   "source": [
    "将该属性处理前的数据、处理后的数据以及winemag-data-130k-v2该属性的数据进行可视化对比："
   ]
  },
  {
   "cell_type": "code",
   "execution_count": 41,
   "metadata": {},
   "outputs": [
    {
     "data": {
      "image/png": "[encoded data removed]",
      "text/plain": [
       "<Figure size 432x288 with 3 Axes>"
      ]
     },
     "metadata": {},
     "output_type": "display_data"
    }
   ],
   "source": [
    "colOld = wineReviewDataSet[attributeName]\n",
    "colNew = colOld.fillna(colOld.mode()[0])\n",
    "colStandard = wineReviewDataSet130k[attributeName]\n",
    "plotOldNewStandardNominal(colOld=colOld, colNew=colNew, colStandard=colStandard, colName=attributeName, showOld=True)"
   ]
  },
  {
   "cell_type": "markdown",
   "metadata": {},
   "source": [
    "对于属性“designation”，处理方法如下："
   ]
  },
  {
   "cell_type": "code",
   "execution_count": 42,
   "metadata": {},
   "outputs": [],
   "source": [
    "attributeName = 'designation'"
   ]
  },
  {
   "cell_type": "markdown",
   "metadata": {},
   "source": [
    "将该属性处理前的数据、处理后的数据以及winemag-data-130k-v2该属性的数据进行可视化对比："
   ]
  },
  {
   "cell_type": "code",
   "execution_count": 43,
   "metadata": {},
   "outputs": [
    {
     "data": {
      "image/png": "[encoded data removed]",
      "text/plain": [
       "<Figure size 432x288 with 3 Axes>"
      ]
     },
     "metadata": {},
     "output_type": "display_data"
    }
   ],
   "source": [
    "colOld = wineReviewDataSet[attributeName]\n",
    "colNew = colOld.fillna(colOld.mode()[0])\n",
    "colStandard = wineReviewDataSet130k[attributeName]\n",
    "plotOldNewStandardNominal(colOld=colOld, colNew=colNew, colStandard=colStandard, colName=attributeName, showOld=True)"
   ]
  },
  {
   "cell_type": "markdown",
   "metadata": {},
   "source": [
    "对于属性“province”，处理方法如下："
   ]
  },
  {
   "cell_type": "code",
   "execution_count": 44,
   "metadata": {},
   "outputs": [],
   "source": [
    "attributeName = 'province'"
   ]
  },
  {
   "cell_type": "markdown",
   "metadata": {},
   "source": [
    "将该属性处理前的数据、处理后的数据以及winemag-data-130k-v2该属性的数据进行可视化对比："
   ]
  },
  {
   "cell_type": "code",
   "execution_count": 45,
   "metadata": {},
   "outputs": [
    {
     "data": {
      "image/png": "[encoded data removed]",
      "text/plain": [
       "<Figure size 432x288 with 3 Axes>"
      ]
     },
     "metadata": {},
     "output_type": "display_data"
    }
   ],
   "source": [
    "colOld = wineReviewDataSet[attributeName]\n",
    "colNew = colOld.fillna(colOld.mode()[0])\n",
    "colStandard = wineReviewDataSet130k[attributeName]\n",
    "plotOldNewStandardNominal(colOld=colOld, colNew=colNew, colStandard=colStandard, colName=attributeName, showOld=True)"
   ]
  },
  {
   "cell_type": "markdown",
   "metadata": {},
   "source": [
    "对于属性“region_1”，处理方法如下："
   ]
  },
  {
   "cell_type": "code",
   "execution_count": 46,
   "metadata": {},
   "outputs": [],
   "source": [
    "attributeName = 'region_1'"
   ]
  },
  {
   "cell_type": "markdown",
   "metadata": {},
   "source": [
    "将该属性处理前的数据、处理后的数据以及winemag-data-130k-v2该属性的数据进行可视化对比："
   ]
  },
  {
   "cell_type": "code",
   "execution_count": 47,
   "metadata": {},
   "outputs": [
    {
     "data": {
      "image/png": "[encoded data removed]",
      "text/plain": [
       "<Figure size 432x288 with 3 Axes>"
      ]
     },
     "metadata": {},
     "output_type": "display_data"
    }
   ],
   "source": [
    "colOld = wineReviewDataSet[attributeName]\n",
    "colNew = colOld.fillna(colOld.mode()[0])\n",
    "colStandard = wineReviewDataSet130k[attributeName]\n",
    "plotOldNewStandardNominal(colOld=colOld, colNew=colNew, colStandard=colStandard, colName=attributeName, showOld=True)"
   ]
  },
  {
   "cell_type": "markdown",
   "metadata": {},
   "source": [
    "对于属性“region_2”，处理方法如下："
   ]
  },
  {
   "cell_type": "code",
   "execution_count": 48,
   "metadata": {},
   "outputs": [],
   "source": [
    "attributeName = 'region_2'"
   ]
  },
  {
   "cell_type": "markdown",
   "metadata": {},
   "source": [
    "将该属性处理前的数据、处理后的数据以及winemag-data-130k-v2该属性的数据进行可视化对比："
   ]
  },
  {
   "cell_type": "code",
   "execution_count": 49,
   "metadata": {},
   "outputs": [
    {
     "data": {
      "image/png": "[encoded data removed]",
      "text/plain": [
       "<Figure size 432x288 with 3 Axes>"
      ]
     },
     "metadata": {},
     "output_type": "display_data"
    }
   ],
   "source": [
    "colOld = wineReviewDataSet[attributeName]\n",
    "colNew = colOld.fillna(colOld.mode()[0])\n",
    "colStandard = wineReviewDataSet130k[attributeName]\n",
    "plotOldNewStandardNominal(colOld=colOld, colNew=colNew, colStandard=colStandard, colName=attributeName, showOld=True)"
   ]
  },
  {
   "cell_type": "markdown",
   "metadata": {},
   "source": [
    "由以上所有的对比图，可以得到的结论是，属性“price”“country”“province”适合利用最高频率值来填补缺失值；\n",
    "而属性“designation”“region_1”“region_2”较不适合这类方法。"
   ]
  },
  {
   "cell_type": "markdown",
   "metadata": {},
   "source": [
    "### 1.2.3 通过属性的相关关系来填补缺失值\n",
    "由于利用相关关系的前提在于，属性之间需要能够比较大小，因此“标称属性”不适用于这类方法，因此我们在此处仅需要利用相关关系对具有缺失值的数值型属性\"price\"进行缺失值填补（\"points\"不具有缺失值，所以在此略去）。"
   ]
  },
  {
   "cell_type": "markdown",
   "metadata": {},
   "source": [
    "对于属性“price”，处理方法如下："
   ]
  },
  {
   "cell_type": "code",
   "execution_count": 50,
   "metadata": {},
   "outputs": [
    {
     "data": {
      "image/png": "[encoded data removed]",
      "text/plain": [
       "<Figure size 432x288 with 1 Axes>"
      ]
     },
     "metadata": {},
     "output_type": "display_data"
    }
   ],
   "source": [
    "new_df = wineReviewDataSet.dropna(subset=['price'])\n",
    "new_df.plot(kind=\"scatter\", x=\"points\", y=\"price\", alpha=0.05)\n",
    "x = new_df['points']\n",
    "y = new_df['price']\n",
    "\n",
    "from sklearn.linear_model import LinearRegression\n",
    "\n",
    "X = np.array(x).reshape(-1, 1)\n",
    "model = LinearRegression()\n",
    "model.fit(X, y)\n",
    "\n",
    "plt.plot(X, model.predict(X), 'r-')\n",
    "plt.ylim(0,300)\n",
    "plt.show()\n"
   ]
  },
  {
   "cell_type": "markdown",
   "metadata": {},
   "source": [
    "由上图可知，属性points和price之间具有线性相关性,因此我们建立线性回归模型，通过points来预测price的值, 并将该属性处理前的数据、处理后的数据以及winemag-data-130k-v2该属性的数据进行可视化对比："
   ]
  },
  {
   "cell_type": "code",
   "execution_count": 51,
   "metadata": {},
   "outputs": [
    {
     "data": {
      "image/png": "[encoded data removed]",
      "text/plain": [
       "<Figure size 432x288 with 3 Axes>"
      ]
     },
     "metadata": {},
     "output_type": "display_data"
    }
   ],
   "source": [
    "wineReviewDataSetNew = wineReviewDataSet.copy()\n",
    "for index, row in wineReviewDataSetNew[wineReviewDataSet['price'].isna()].iterrows():\n",
    "    row['price'] = model.predict(np.array(row['points']).reshape(-1, 1))\n",
    "    \n",
    "attributeName = 'price'\n",
    "colOld = wineReviewDataSet[attributeName]\n",
    "colNew = wineReviewDataSet[attributeName]\n",
    "colStandard = wineReviewDataSet[attributeName]\n",
    "\n",
    "plotOldNewStandard(colOld=colOld, colNew=colNew, colStandard=colStandard, colName=attributeName, showOld=True)"
   ]
  },
  {
   "cell_type": "markdown",
   "metadata": {},
   "source": [
    "### 1.2.4 通过数据对象之间的相似性来填补缺失值\n",
    "由于标称属性之间很难进行相似性的度量，因此本处将利用points属性的相近程度，从而进行price属性的缺失值填充："
   ]
  },
  {
   "cell_type": "code",
   "execution_count": 52,
   "metadata": {},
   "outputs": [],
   "source": [
    "simFill = wineReviewDataSet.copy()\n",
    "point2price = {}\n",
    "for row in simFill.iterrows():\n",
    "    if point2price.get(row[1]['points'], None):\n",
    "        if not pd.isnull(row[1]['price']):\n",
    "            point2price[row[1]['points']][0] += row[1]['price']\n",
    "            point2price[row[1]['points']][1] += 1\n",
    "    else:\n",
    "        if not pd.isnull(row[1]['price']):\n",
    "            point2price[row[1]['points']] = [row[1]['price'], 1]\n",
    "    \n",
    "for k in point2price.keys():\n",
    "    point2price[k][0] = round(point2price[k][0] / point2price[k][1], 4)\n",
    "    \n",
    "for row in simFill.iterrows():\n",
    "    if pd.isnull(row[1]['price']):\n",
    "        row[1]['price'] = point2price[row[1]['points']][0]\n",
    "        \n"
   ]
  },
  {
   "cell_type": "code",
   "execution_count": 53,
   "metadata": {},
   "outputs": [
    {
     "data": {
      "image/png": "[encoded data removed]",
      "text/plain": [
       "<Figure size 432x288 with 3 Axes>"
      ]
     },
     "metadata": {},
     "output_type": "display_data"
    }
   ],
   "source": [
    "colOld = wineReviewDataSet['price']\n",
    "colNew = simFill['price']\n",
    "colStandard = wineReviewDataSet130k['price']\n",
    "plotOldNewStandard(colOld=colOld, colNew=colNew, colStandard=colStandard, colName=attributeName, showOld=True)"
   ]
  },
  {
   "cell_type": "markdown",
   "metadata": {},
   "source": [
    "## 2. 数据集：MLB Pitch Data 2015-2018"
   ]
  },
  {
   "cell_type": "code",
   "execution_count": 54,
   "metadata": {},
   "outputs": [],
   "source": [
    "del wineReviewDataSet\n",
    "del wineReviewDataSet130k\n",
    "del simFill\n",
    "del new_df"
   ]
  },
  {
   "cell_type": "markdown",
   "metadata": {},
   "source": [
    "因为这个数据集中涉及到5个子数据集，因此我们将同时对这几个数据集进行处理。"
   ]
  },
  {
   "cell_type": "code",
   "execution_count": 55,
   "metadata": {},
   "outputs": [],
   "source": [
    "player_namesDataSet = pd.read_csv('player_names.csv')"
   ]
  },
  {
   "cell_type": "code",
   "execution_count": 56,
   "metadata": {},
   "outputs": [],
   "source": [
    "pitchesDataSet = pd.read_csv('pitches.csv')"
   ]
  },
  {
   "cell_type": "code",
   "execution_count": 57,
   "metadata": {},
   "outputs": [],
   "source": [
    "gamesDataSet = pd.read_csv('games.csv')"
   ]
  },
  {
   "cell_type": "code",
   "execution_count": 58,
   "metadata": {},
   "outputs": [],
   "source": [
    "ejectionsDataSet = pd.read_csv('ejections.csv')"
   ]
  },
  {
   "cell_type": "code",
   "execution_count": 59,
   "metadata": {},
   "outputs": [],
   "source": [
    "atbatsDataSet = pd.read_csv('atbats.csv')"
   ]
  },
  {
   "cell_type": "markdown",
   "metadata": {},
   "source": [
    "### 2.1. 数据可视化和摘要"
   ]
  },
  {
   "cell_type": "markdown",
   "metadata": {},
   "source": [
    "#### 2.1.1. 数据信息概览  \n",
    "在进行数据分析之前，对数据信息进行概览是十分有必要的。"
   ]
  },
  {
   "cell_type": "code",
   "execution_count": 60,
   "metadata": {},
   "outputs": [
    {
     "name": "stdout",
     "output_type": "stream",
     "text": [
      "player_names:\n",
      "object    2\n",
      "int64     1\n",
      "dtype: int64 \n",
      "\n",
      "pitches:\n",
      "float64    36\n",
      "object      3\n",
      "int64       1\n",
      "dtype: int64 \n",
      "\n",
      "games:\n",
      "object    11\n",
      "int64      6\n",
      "dtype: int64 \n",
      "\n",
      "ejections:\n",
      "object    5\n",
      "int64     4\n",
      "bool      1\n",
      "dtype: int64 \n",
      "\n",
      "atbats:\n",
      "int64     7\n",
      "object    3\n",
      "bool      1\n",
      "dtype: int64 \n",
      "\n"
     ]
    }
   ],
   "source": [
    "print('player_names:')\n",
    "print(player_namesDataSet.dtypes.value_counts(), '\\n')\n",
    "print('pitches:')\n",
    "print(pitchesDataSet.dtypes.value_counts(), '\\n')\n",
    "print('games:')\n",
    "print(gamesDataSet.dtypes.value_counts(), '\\n')\n",
    "print('ejections:')\n",
    "print(ejectionsDataSet.dtypes.value_counts(), '\\n')\n",
    "print('atbats:')\n",
    "print(atbatsDataSet.dtypes.value_counts(), '\\n')\n"
   ]
  },
  {
   "cell_type": "markdown",
   "metadata": {},
   "source": [
    "所以说，该数据中:  \n",
    "player_names: 标称属性为2个，而数值属性为1个。  \n",
    "pitches: 标称属性为3个，而数值属性为37个。  \n",
    "games: 标称属性为11个，而数值属性为6个。  \n",
    "ejections: 标称属性为4个，而数值属性为6个。  \n",
    "atbats: 标称属性为3个，而数值属性为8个。"
   ]
  },
  {
   "cell_type": "markdown",
   "metadata": {},
   "source": [
    "然后我们对该数据集进行概要上的了解："
   ]
  },
  {
   "cell_type": "code",
   "execution_count": 61,
   "metadata": {},
   "outputs": [
    {
     "name": "stdout",
     "output_type": "stream",
     "text": [
      "player_names:\n"
     ]
    },
    {
     "data": {
      "text/html": [
       "<div>\n",
       "<style scoped>\n",
       "    .dataframe tbody tr th:only-of-type {\n",
       "        vertical-align: middle;\n",
       "    }\n",
       "\n",
       "    .dataframe tbody tr th {\n",
       "        vertical-align: top;\n",
       "    }\n",
       "\n",
       "    .dataframe thead th {\n",
       "        text-align: right;\n",
       "    }\n",
       "</style>\n",
       "<table border=\"1\" class=\"dataframe\">\n",
       "  <thead>\n",
       "    <tr style=\"text-align: right;\">\n",
       "      <th></th>\n",
       "      <th>id</th>\n",
       "      <th>first_name</th>\n",
       "      <th>last_name</th>\n",
       "    </tr>\n",
       "  </thead>\n",
       "  <tbody>\n",
       "    <tr>\n",
       "      <th>0</th>\n",
       "      <td>452657</td>\n",
       "      <td>Jon</td>\n",
       "      <td>Lester</td>\n",
       "    </tr>\n",
       "    <tr>\n",
       "      <th>1</th>\n",
       "      <td>425794</td>\n",
       "      <td>Adam</td>\n",
       "      <td>Wainwright</td>\n",
       "    </tr>\n",
       "    <tr>\n",
       "      <th>2</th>\n",
       "      <td>457435</td>\n",
       "      <td>Phil</td>\n",
       "      <td>Coke</td>\n",
       "    </tr>\n",
       "    <tr>\n",
       "      <th>3</th>\n",
       "      <td>435400</td>\n",
       "      <td>Jason</td>\n",
       "      <td>Motte</td>\n",
       "    </tr>\n",
       "    <tr>\n",
       "      <th>4</th>\n",
       "      <td>519166</td>\n",
       "      <td>Neil</td>\n",
       "      <td>Ramirez</td>\n",
       "    </tr>\n",
       "  </tbody>\n",
       "</table>\n",
       "</div>"
      ],
      "text/plain": [
       "       id first_name   last_name\n",
       "0  452657        Jon      Lester\n",
       "1  425794       Adam  Wainwright\n",
       "2  457435       Phil        Coke\n",
       "3  435400      Jason       Motte\n",
       "4  519166       Neil     Ramirez"
      ]
     },
     "execution_count": 61,
     "metadata": {},
     "output_type": "execute_result"
    }
   ],
   "source": [
    "print('player_names:')\n",
    "player_namesDataSet.head()"
   ]
  },
  {
   "cell_type": "code",
   "execution_count": 62,
   "metadata": {},
   "outputs": [
    {
     "name": "stdout",
     "output_type": "stream",
     "text": [
      "\n",
      "pitches:\n"
     ]
    },
    {
     "data": {
      "text/html": [
       "<div>\n",
       "<style scoped>\n",
       "    .dataframe tbody tr th:only-of-type {\n",
       "        vertical-align: middle;\n",
       "    }\n",
       "\n",
       "    .dataframe tbody tr th {\n",
       "        vertical-align: top;\n",
       "    }\n",
       "\n",
       "    .dataframe thead th {\n",
       "        text-align: right;\n",
       "    }\n",
       "</style>\n",
       "<table border=\"1\" class=\"dataframe\">\n",
       "  <thead>\n",
       "    <tr style=\"text-align: right;\">\n",
       "      <th></th>\n",
       "      <th>px</th>\n",
       "      <th>pz</th>\n",
       "      <th>start_speed</th>\n",
       "      <th>end_speed</th>\n",
       "      <th>spin_rate</th>\n",
       "      <th>spin_dir</th>\n",
       "      <th>break_angle</th>\n",
       "      <th>break_length</th>\n",
       "      <th>break_y</th>\n",
       "      <th>ax</th>\n",
       "      <th>...</th>\n",
       "      <th>event_num</th>\n",
       "      <th>b_score</th>\n",
       "      <th>ab_id</th>\n",
       "      <th>b_count</th>\n",
       "      <th>s_count</th>\n",
       "      <th>outs</th>\n",
       "      <th>pitch_num</th>\n",
       "      <th>on_1b</th>\n",
       "      <th>on_2b</th>\n",
       "      <th>on_3b</th>\n",
       "    </tr>\n",
       "  </thead>\n",
       "  <tbody>\n",
       "    <tr>\n",
       "      <th>0</th>\n",
       "      <td>0.416</td>\n",
       "      <td>2.963</td>\n",
       "      <td>92.9</td>\n",
       "      <td>84.1</td>\n",
       "      <td>2305.052</td>\n",
       "      <td>159.235</td>\n",
       "      <td>-25.0</td>\n",
       "      <td>3.2</td>\n",
       "      <td>23.7</td>\n",
       "      <td>7.665</td>\n",
       "      <td>...</td>\n",
       "      <td>3</td>\n",
       "      <td>0.0</td>\n",
       "      <td>2.015000e+09</td>\n",
       "      <td>0.0</td>\n",
       "      <td>0.0</td>\n",
       "      <td>0.0</td>\n",
       "      <td>1.0</td>\n",
       "      <td>0.0</td>\n",
       "      <td>0.0</td>\n",
       "      <td>0.0</td>\n",
       "    </tr>\n",
       "    <tr>\n",
       "      <th>1</th>\n",
       "      <td>-0.191</td>\n",
       "      <td>2.347</td>\n",
       "      <td>92.8</td>\n",
       "      <td>84.1</td>\n",
       "      <td>2689.935</td>\n",
       "      <td>151.402</td>\n",
       "      <td>-40.7</td>\n",
       "      <td>3.4</td>\n",
       "      <td>23.7</td>\n",
       "      <td>12.043</td>\n",
       "      <td>...</td>\n",
       "      <td>4</td>\n",
       "      <td>0.0</td>\n",
       "      <td>2.015000e+09</td>\n",
       "      <td>0.0</td>\n",
       "      <td>1.0</td>\n",
       "      <td>0.0</td>\n",
       "      <td>2.0</td>\n",
       "      <td>0.0</td>\n",
       "      <td>0.0</td>\n",
       "      <td>0.0</td>\n",
       "    </tr>\n",
       "    <tr>\n",
       "      <th>2</th>\n",
       "      <td>-0.518</td>\n",
       "      <td>3.284</td>\n",
       "      <td>94.1</td>\n",
       "      <td>85.2</td>\n",
       "      <td>2647.972</td>\n",
       "      <td>145.125</td>\n",
       "      <td>-43.7</td>\n",
       "      <td>3.7</td>\n",
       "      <td>23.7</td>\n",
       "      <td>14.368</td>\n",
       "      <td>...</td>\n",
       "      <td>5</td>\n",
       "      <td>0.0</td>\n",
       "      <td>2.015000e+09</td>\n",
       "      <td>0.0</td>\n",
       "      <td>2.0</td>\n",
       "      <td>0.0</td>\n",
       "      <td>3.0</td>\n",
       "      <td>0.0</td>\n",
       "      <td>0.0</td>\n",
       "      <td>0.0</td>\n",
       "    </tr>\n",
       "    <tr>\n",
       "      <th>3</th>\n",
       "      <td>-0.641</td>\n",
       "      <td>1.221</td>\n",
       "      <td>91.0</td>\n",
       "      <td>84.0</td>\n",
       "      <td>1289.590</td>\n",
       "      <td>169.751</td>\n",
       "      <td>-1.3</td>\n",
       "      <td>5.0</td>\n",
       "      <td>23.8</td>\n",
       "      <td>2.104</td>\n",
       "      <td>...</td>\n",
       "      <td>6</td>\n",
       "      <td>0.0</td>\n",
       "      <td>2.015000e+09</td>\n",
       "      <td>0.0</td>\n",
       "      <td>2.0</td>\n",
       "      <td>0.0</td>\n",
       "      <td>4.0</td>\n",
       "      <td>0.0</td>\n",
       "      <td>0.0</td>\n",
       "      <td>0.0</td>\n",
       "    </tr>\n",
       "    <tr>\n",
       "      <th>4</th>\n",
       "      <td>-1.821</td>\n",
       "      <td>2.083</td>\n",
       "      <td>75.4</td>\n",
       "      <td>69.6</td>\n",
       "      <td>1374.569</td>\n",
       "      <td>280.671</td>\n",
       "      <td>18.4</td>\n",
       "      <td>12.0</td>\n",
       "      <td>23.8</td>\n",
       "      <td>-10.280</td>\n",
       "      <td>...</td>\n",
       "      <td>7</td>\n",
       "      <td>0.0</td>\n",
       "      <td>2.015000e+09</td>\n",
       "      <td>1.0</td>\n",
       "      <td>2.0</td>\n",
       "      <td>0.0</td>\n",
       "      <td>5.0</td>\n",
       "      <td>0.0</td>\n",
       "      <td>0.0</td>\n",
       "      <td>0.0</td>\n",
       "    </tr>\n",
       "  </tbody>\n",
       "</table>\n",
       "<p>5 rows × 40 columns</p>\n",
       "</div>"
      ],
      "text/plain": [
       "      px     pz  start_speed  end_speed  spin_rate  spin_dir  break_angle  \\\n",
       "0  0.416  2.963         92.9       84.1   2305.052   159.235        -25.0   \n",
       "1 -0.191  2.347         92.8       84.1   2689.935   151.402        -40.7   \n",
       "2 -0.518  3.284         94.1       85.2   2647.972   145.125        -43.7   \n",
       "3 -0.641  1.221         91.0       84.0   1289.590   169.751         -1.3   \n",
       "4 -1.821  2.083         75.4       69.6   1374.569   280.671         18.4   \n",
       "\n",
       "   break_length  break_y      ax  ...    event_num  b_score         ab_id  \\\n",
       "0           3.2     23.7   7.665  ...            3      0.0  2.015000e+09   \n",
       "1           3.4     23.7  12.043  ...            4      0.0  2.015000e+09   \n",
       "2           3.7     23.7  14.368  ...            5      0.0  2.015000e+09   \n",
       "3           5.0     23.8   2.104  ...            6      0.0  2.015000e+09   \n",
       "4          12.0     23.8 -10.280  ...            7      0.0  2.015000e+09   \n",
       "\n",
       "   b_count  s_count  outs  pitch_num  on_1b  on_2b  on_3b  \n",
       "0      0.0      0.0   0.0        1.0    0.0    0.0    0.0  \n",
       "1      0.0      1.0   0.0        2.0    0.0    0.0    0.0  \n",
       "2      0.0      2.0   0.0        3.0    0.0    0.0    0.0  \n",
       "3      0.0      2.0   0.0        4.0    0.0    0.0    0.0  \n",
       "4      1.0      2.0   0.0        5.0    0.0    0.0    0.0  \n",
       "\n",
       "[5 rows x 40 columns]"
      ]
     },
     "execution_count": 62,
     "metadata": {},
     "output_type": "execute_result"
    }
   ],
   "source": [
    "print('\\npitches:')\n",
    "pitchesDataSet.head()"
   ]
  },
  {
   "cell_type": "code",
   "execution_count": 63,
   "metadata": {
    "scrolled": true
   },
   "outputs": [
    {
     "name": "stdout",
     "output_type": "stream",
     "text": [
      "\n",
      "games:\n"
     ]
    },
    {
     "data": {
      "text/html": [
       "<div>\n",
       "<style scoped>\n",
       "    .dataframe tbody tr th:only-of-type {\n",
       "        vertical-align: middle;\n",
       "    }\n",
       "\n",
       "    .dataframe tbody tr th {\n",
       "        vertical-align: top;\n",
       "    }\n",
       "\n",
       "    .dataframe thead th {\n",
       "        text-align: right;\n",
       "    }\n",
       "</style>\n",
       "<table border=\"1\" class=\"dataframe\">\n",
       "  <thead>\n",
       "    <tr style=\"text-align: right;\">\n",
       "      <th></th>\n",
       "      <th>attendance</th>\n",
       "      <th>away_final_score</th>\n",
       "      <th>away_team</th>\n",
       "      <th>date</th>\n",
       "      <th>elapsed_time</th>\n",
       "      <th>g_id</th>\n",
       "      <th>home_final_score</th>\n",
       "      <th>home_team</th>\n",
       "      <th>start_time</th>\n",
       "      <th>umpire_1B</th>\n",
       "      <th>umpire_2B</th>\n",
       "      <th>umpire_3B</th>\n",
       "      <th>umpire_HP</th>\n",
       "      <th>venue_name</th>\n",
       "      <th>weather</th>\n",
       "      <th>wind</th>\n",
       "      <th>delay</th>\n",
       "    </tr>\n",
       "  </thead>\n",
       "  <tbody>\n",
       "    <tr>\n",
       "      <th>0</th>\n",
       "      <td>35055</td>\n",
       "      <td>3</td>\n",
       "      <td>sln</td>\n",
       "      <td>2015-04-05</td>\n",
       "      <td>184</td>\n",
       "      <td>201500001</td>\n",
       "      <td>0</td>\n",
       "      <td>chn</td>\n",
       "      <td>7:17 PM</td>\n",
       "      <td>Mark Wegner</td>\n",
       "      <td>Marty Foster</td>\n",
       "      <td>Mike Muchlinski</td>\n",
       "      <td>Mike Winters</td>\n",
       "      <td>Wrigley Field</td>\n",
       "      <td>44 degrees, clear</td>\n",
       "      <td>7 mph, In from CF</td>\n",
       "      <td>0</td>\n",
       "    </tr>\n",
       "    <tr>\n",
       "      <th>1</th>\n",
       "      <td>45909</td>\n",
       "      <td>1</td>\n",
       "      <td>ana</td>\n",
       "      <td>2015-04-06</td>\n",
       "      <td>153</td>\n",
       "      <td>201500002</td>\n",
       "      <td>4</td>\n",
       "      <td>sea</td>\n",
       "      <td>1:12 PM</td>\n",
       "      <td>Ron Kulpa</td>\n",
       "      <td>Brian Knight</td>\n",
       "      <td>Vic Carapazza</td>\n",
       "      <td>Larry Vanover</td>\n",
       "      <td>Safeco Field</td>\n",
       "      <td>54 degrees, cloudy</td>\n",
       "      <td>1 mph, Varies</td>\n",
       "      <td>0</td>\n",
       "    </tr>\n",
       "    <tr>\n",
       "      <th>2</th>\n",
       "      <td>36969</td>\n",
       "      <td>2</td>\n",
       "      <td>atl</td>\n",
       "      <td>2015-04-06</td>\n",
       "      <td>156</td>\n",
       "      <td>201500003</td>\n",
       "      <td>1</td>\n",
       "      <td>mia</td>\n",
       "      <td>4:22 PM</td>\n",
       "      <td>Laz Diaz</td>\n",
       "      <td>Chris Guccione</td>\n",
       "      <td>Cory Blaser</td>\n",
       "      <td>Jeff Nelson</td>\n",
       "      <td>Marlins Park</td>\n",
       "      <td>80 degrees, partly cloudy</td>\n",
       "      <td>16 mph, In from CF</td>\n",
       "      <td>16</td>\n",
       "    </tr>\n",
       "    <tr>\n",
       "      <th>3</th>\n",
       "      <td>31042</td>\n",
       "      <td>6</td>\n",
       "      <td>bal</td>\n",
       "      <td>2015-04-06</td>\n",
       "      <td>181</td>\n",
       "      <td>201500004</td>\n",
       "      <td>2</td>\n",
       "      <td>tba</td>\n",
       "      <td>3:12 PM</td>\n",
       "      <td>Ed Hickox</td>\n",
       "      <td>Paul Nauert</td>\n",
       "      <td>Mike Estabrook</td>\n",
       "      <td>Dana DeMuth</td>\n",
       "      <td>Tropicana Field</td>\n",
       "      <td>72 degrees, dome</td>\n",
       "      <td>0 mph, None</td>\n",
       "      <td>0</td>\n",
       "    </tr>\n",
       "    <tr>\n",
       "      <th>4</th>\n",
       "      <td>45549</td>\n",
       "      <td>8</td>\n",
       "      <td>bos</td>\n",
       "      <td>2015-04-06</td>\n",
       "      <td>181</td>\n",
       "      <td>201500005</td>\n",
       "      <td>0</td>\n",
       "      <td>phi</td>\n",
       "      <td>3:08 PM</td>\n",
       "      <td>Phil Cuzzi</td>\n",
       "      <td>Tony Randazzo</td>\n",
       "      <td>Will Little</td>\n",
       "      <td>Gerry Davis</td>\n",
       "      <td>Citizens Bank Park</td>\n",
       "      <td>71 degrees, partly cloudy</td>\n",
       "      <td>11 mph, Out to RF</td>\n",
       "      <td>0</td>\n",
       "    </tr>\n",
       "  </tbody>\n",
       "</table>\n",
       "</div>"
      ],
      "text/plain": [
       "   attendance  away_final_score away_team        date  elapsed_time  \\\n",
       "0       35055                 3       sln  2015-04-05           184   \n",
       "1       45909                 1       ana  2015-04-06           153   \n",
       "2       36969                 2       atl  2015-04-06           156   \n",
       "3       31042                 6       bal  2015-04-06           181   \n",
       "4       45549                 8       bos  2015-04-06           181   \n",
       "\n",
       "        g_id  home_final_score home_team start_time    umpire_1B  \\\n",
       "0  201500001                 0       chn    7:17 PM  Mark Wegner   \n",
       "1  201500002                 4       sea    1:12 PM    Ron Kulpa   \n",
       "2  201500003                 1       mia    4:22 PM     Laz Diaz   \n",
       "3  201500004                 2       tba    3:12 PM    Ed Hickox   \n",
       "4  201500005                 0       phi    3:08 PM   Phil Cuzzi   \n",
       "\n",
       "        umpire_2B        umpire_3B      umpire_HP          venue_name  \\\n",
       "0    Marty Foster  Mike Muchlinski   Mike Winters       Wrigley Field   \n",
       "1    Brian Knight    Vic Carapazza  Larry Vanover        Safeco Field   \n",
       "2  Chris Guccione      Cory Blaser    Jeff Nelson        Marlins Park   \n",
       "3     Paul Nauert   Mike Estabrook    Dana DeMuth     Tropicana Field   \n",
       "4   Tony Randazzo      Will Little    Gerry Davis  Citizens Bank Park   \n",
       "\n",
       "                     weather                wind  delay  \n",
       "0          44 degrees, clear   7 mph, In from CF      0  \n",
       "1         54 degrees, cloudy       1 mph, Varies      0  \n",
       "2  80 degrees, partly cloudy  16 mph, In from CF     16  \n",
       "3           72 degrees, dome         0 mph, None      0  \n",
       "4  71 degrees, partly cloudy   11 mph, Out to RF      0  "
      ]
     },
     "execution_count": 63,
     "metadata": {},
     "output_type": "execute_result"
    }
   ],
   "source": [
    "print('\\ngames:')\n",
    "gamesDataSet.head()"
   ]
  },
  {
   "cell_type": "code",
   "execution_count": 64,
   "metadata": {
    "scrolled": true
   },
   "outputs": [
    {
     "name": "stdout",
     "output_type": "stream",
     "text": [
      "\n",
      "ejections:\n"
     ]
    },
    {
     "data": {
      "text/html": [
       "<div>\n",
       "<style scoped>\n",
       "    .dataframe tbody tr th:only-of-type {\n",
       "        vertical-align: middle;\n",
       "    }\n",
       "\n",
       "    .dataframe tbody tr th {\n",
       "        vertical-align: top;\n",
       "    }\n",
       "\n",
       "    .dataframe thead th {\n",
       "        text-align: right;\n",
       "    }\n",
       "</style>\n",
       "<table border=\"1\" class=\"dataframe\">\n",
       "  <thead>\n",
       "    <tr style=\"text-align: right;\">\n",
       "      <th></th>\n",
       "      <th>ab_id</th>\n",
       "      <th>des</th>\n",
       "      <th>event_num</th>\n",
       "      <th>g_id</th>\n",
       "      <th>player_id</th>\n",
       "      <th>date</th>\n",
       "      <th>BS</th>\n",
       "      <th>CORRECT</th>\n",
       "      <th>team</th>\n",
       "      <th>is_home_team</th>\n",
       "    </tr>\n",
       "  </thead>\n",
       "  <tbody>\n",
       "    <tr>\n",
       "      <th>0</th>\n",
       "      <td>2015003219</td>\n",
       "      <td>San Diego Padres center fielder Will Venable e...</td>\n",
       "      <td>732</td>\n",
       "      <td>201500044</td>\n",
       "      <td>461416</td>\n",
       "      <td>4/9/15</td>\n",
       "      <td>NaN</td>\n",
       "      <td>NaN</td>\n",
       "      <td>sdn</td>\n",
       "      <td>True</td>\n",
       "    </tr>\n",
       "    <tr>\n",
       "      <th>1</th>\n",
       "      <td>2015003219</td>\n",
       "      <td>San Diego Padres Manager Bud Black ejected by ...</td>\n",
       "      <td>734</td>\n",
       "      <td>201500044</td>\n",
       "      <td>111034</td>\n",
       "      <td>4/9/15</td>\n",
       "      <td>NaN</td>\n",
       "      <td>NaN</td>\n",
       "      <td>sdn</td>\n",
       "      <td>True</td>\n",
       "    </tr>\n",
       "    <tr>\n",
       "      <th>2</th>\n",
       "      <td>2015004134</td>\n",
       "      <td>Milwaukee Brewers second baseman Scooter Genne...</td>\n",
       "      <td>584</td>\n",
       "      <td>201500055</td>\n",
       "      <td>571697</td>\n",
       "      <td>4/10/15</td>\n",
       "      <td>Y</td>\n",
       "      <td>C</td>\n",
       "      <td>mil</td>\n",
       "      <td>True</td>\n",
       "    </tr>\n",
       "    <tr>\n",
       "      <th>3</th>\n",
       "      <td>2015006692</td>\n",
       "      <td>Cincinnati Reds Manager Bryan Price ejected by...</td>\n",
       "      <td>557</td>\n",
       "      <td>201500088</td>\n",
       "      <td>427406</td>\n",
       "      <td>4/12/15</td>\n",
       "      <td>NaN</td>\n",
       "      <td>NaN</td>\n",
       "      <td>cin</td>\n",
       "      <td>True</td>\n",
       "    </tr>\n",
       "    <tr>\n",
       "      <th>4</th>\n",
       "      <td>2015008446</td>\n",
       "      <td>Pittsburgh Pirates Manager Clint Hurdle ejecte...</td>\n",
       "      <td>402</td>\n",
       "      <td>201500111</td>\n",
       "      <td>116346</td>\n",
       "      <td>4/14/15</td>\n",
       "      <td>Y</td>\n",
       "      <td>I</td>\n",
       "      <td>pit</td>\n",
       "      <td>True</td>\n",
       "    </tr>\n",
       "  </tbody>\n",
       "</table>\n",
       "</div>"
      ],
      "text/plain": [
       "        ab_id                                                des  event_num  \\\n",
       "0  2015003219  San Diego Padres center fielder Will Venable e...        732   \n",
       "1  2015003219  San Diego Padres Manager Bud Black ejected by ...        734   \n",
       "2  2015004134  Milwaukee Brewers second baseman Scooter Genne...        584   \n",
       "3  2015006692  Cincinnati Reds Manager Bryan Price ejected by...        557   \n",
       "4  2015008446  Pittsburgh Pirates Manager Clint Hurdle ejecte...        402   \n",
       "\n",
       "        g_id  player_id     date   BS CORRECT team  is_home_team  \n",
       "0  201500044     461416   4/9/15  NaN     NaN  sdn          True  \n",
       "1  201500044     111034   4/9/15  NaN     NaN  sdn          True  \n",
       "2  201500055     571697  4/10/15    Y       C  mil          True  \n",
       "3  201500088     427406  4/12/15  NaN     NaN  cin          True  \n",
       "4  201500111     116346  4/14/15    Y       I  pit          True  "
      ]
     },
     "execution_count": 64,
     "metadata": {},
     "output_type": "execute_result"
    }
   ],
   "source": [
    "print('\\nejections:')\n",
    "ejectionsDataSet.head()"
   ]
  },
  {
   "cell_type": "code",
   "execution_count": 65,
   "metadata": {},
   "outputs": [
    {
     "name": "stdout",
     "output_type": "stream",
     "text": [
      "\n",
      "atbats:\n"
     ]
    },
    {
     "data": {
      "text/html": [
       "<div>\n",
       "<style scoped>\n",
       "    .dataframe tbody tr th:only-of-type {\n",
       "        vertical-align: middle;\n",
       "    }\n",
       "\n",
       "    .dataframe tbody tr th {\n",
       "        vertical-align: top;\n",
       "    }\n",
       "\n",
       "    .dataframe thead th {\n",
       "        text-align: right;\n",
       "    }\n",
       "</style>\n",
       "<table border=\"1\" class=\"dataframe\">\n",
       "  <thead>\n",
       "    <tr style=\"text-align: right;\">\n",
       "      <th></th>\n",
       "      <th>ab_id</th>\n",
       "      <th>batter_id</th>\n",
       "      <th>event</th>\n",
       "      <th>g_id</th>\n",
       "      <th>inning</th>\n",
       "      <th>o</th>\n",
       "      <th>p_score</th>\n",
       "      <th>p_throws</th>\n",
       "      <th>pitcher_id</th>\n",
       "      <th>stand</th>\n",
       "      <th>top</th>\n",
       "    </tr>\n",
       "  </thead>\n",
       "  <tbody>\n",
       "    <tr>\n",
       "      <th>0</th>\n",
       "      <td>2015000001</td>\n",
       "      <td>572761</td>\n",
       "      <td>Groundout</td>\n",
       "      <td>201500001</td>\n",
       "      <td>1</td>\n",
       "      <td>1</td>\n",
       "      <td>0</td>\n",
       "      <td>L</td>\n",
       "      <td>452657</td>\n",
       "      <td>L</td>\n",
       "      <td>True</td>\n",
       "    </tr>\n",
       "    <tr>\n",
       "      <th>1</th>\n",
       "      <td>2015000002</td>\n",
       "      <td>518792</td>\n",
       "      <td>Double</td>\n",
       "      <td>201500001</td>\n",
       "      <td>1</td>\n",
       "      <td>1</td>\n",
       "      <td>0</td>\n",
       "      <td>L</td>\n",
       "      <td>452657</td>\n",
       "      <td>L</td>\n",
       "      <td>True</td>\n",
       "    </tr>\n",
       "    <tr>\n",
       "      <th>2</th>\n",
       "      <td>2015000003</td>\n",
       "      <td>407812</td>\n",
       "      <td>Single</td>\n",
       "      <td>201500001</td>\n",
       "      <td>1</td>\n",
       "      <td>1</td>\n",
       "      <td>0</td>\n",
       "      <td>L</td>\n",
       "      <td>452657</td>\n",
       "      <td>R</td>\n",
       "      <td>True</td>\n",
       "    </tr>\n",
       "    <tr>\n",
       "      <th>3</th>\n",
       "      <td>2015000004</td>\n",
       "      <td>425509</td>\n",
       "      <td>Strikeout</td>\n",
       "      <td>201500001</td>\n",
       "      <td>1</td>\n",
       "      <td>2</td>\n",
       "      <td>0</td>\n",
       "      <td>L</td>\n",
       "      <td>452657</td>\n",
       "      <td>R</td>\n",
       "      <td>True</td>\n",
       "    </tr>\n",
       "    <tr>\n",
       "      <th>4</th>\n",
       "      <td>2015000005</td>\n",
       "      <td>571431</td>\n",
       "      <td>Strikeout</td>\n",
       "      <td>201500001</td>\n",
       "      <td>1</td>\n",
       "      <td>3</td>\n",
       "      <td>0</td>\n",
       "      <td>L</td>\n",
       "      <td>452657</td>\n",
       "      <td>L</td>\n",
       "      <td>True</td>\n",
       "    </tr>\n",
       "  </tbody>\n",
       "</table>\n",
       "</div>"
      ],
      "text/plain": [
       "        ab_id  batter_id      event       g_id  inning  o  p_score p_throws  \\\n",
       "0  2015000001     572761  Groundout  201500001       1  1        0        L   \n",
       "1  2015000002     518792     Double  201500001       1  1        0        L   \n",
       "2  2015000003     407812     Single  201500001       1  1        0        L   \n",
       "3  2015000004     425509  Strikeout  201500001       1  2        0        L   \n",
       "4  2015000005     571431  Strikeout  201500001       1  3        0        L   \n",
       "\n",
       "   pitcher_id stand   top  \n",
       "0      452657     L  True  \n",
       "1      452657     L  True  \n",
       "2      452657     R  True  \n",
       "3      452657     R  True  \n",
       "4      452657     L  True  "
      ]
     },
     "execution_count": 65,
     "metadata": {},
     "output_type": "execute_result"
    }
   ],
   "source": [
    "print('\\natbats:')\n",
    "atbatsDataSet.head()"
   ]
  },
  {
   "cell_type": "markdown",
   "metadata": {},
   "source": [
    "#### 1.1.2. 数据摘要"
   ]
  },
  {
   "cell_type": "markdown",
   "metadata": {},
   "source": [
    "**标称属性摘要**\n",
    "我们将以上图所得的各个数据集的标称属性为基础，进行频数统计。为此我们首先定义一个函数colCntPlot用于对数据集中特定的列进行频数统计并利用直方图对前10个频率最高的值进行可视化。"
   ]
  },
  {
   "cell_type": "code",
   "execution_count": 66,
   "metadata": {},
   "outputs": [],
   "source": [
    "def colCntPlot(data, colName, top=10):\n",
    "    col = data[colName].value_counts()\n",
    "    itemNum = len(col)\n",
    "    print('The colunm name is:', colName)\n",
    "    print('There are {} different values.\\n'.format(itemNum))\n",
    "    print('There are {} values in total.\\n'.format(len(data.index)))\n",
    "    col_df = col.to_frame()\n",
    "    col_df['frequency'] = col.apply(lambda x: x / len(data.index))\n",
    "    col_df.rename(columns={colName: 'valueCounts'}, inplace=True)\n",
    "    print('The most {} frequent values are:'.format(top))\n",
    "    print(col_df.iloc[:top])\n",
    "    plt.bar(np.arange(top), col.iloc[:top])\n",
    "    plt.title(colName)\n",
    "    plt.show()\n",
    "    "
   ]
  },
  {
   "cell_type": "markdown",
   "metadata": {},
   "source": [
    "对于**player_names.csv**数据集中的“first_name”“last_name”："
   ]
  },
  {
   "cell_type": "code",
   "execution_count": 67,
   "metadata": {},
   "outputs": [
    {
     "name": "stdout",
     "output_type": "stream",
     "text": [
      "The colunm name is: first_name\n",
      "There are 788 different values.\n",
      "\n",
      "There are 2218 values in total.\n",
      "\n",
      "The most 10 frequent values are:\n",
      "         valueCounts  frequency\n",
      "Matt              47   0.021190\n",
      "Chris             40   0.018034\n",
      "Ryan              40   0.018034\n",
      "Tyler             35   0.015780\n",
      "Mike              29   0.013075\n",
      "Jose              29   0.013075\n",
      "David             28   0.012624\n",
      "Kyle              27   0.012173\n",
      "Michael           26   0.011722\n",
      "Nick              24   0.010821\n"
     ]
    },
    {
     "data": {
      "image/png": "[encoded data removed]",
      "text/plain": [
       "<Figure size 432x288 with 1 Axes>"
      ]
     },
     "metadata": {},
     "output_type": "display_data"
    }
   ],
   "source": [
    "attributeName = 'first_name'\n",
    "topFrequency = 10\n",
    "colCntPlot(player_namesDataSet, attributeName, topFrequency)"
   ]
  },
  {
   "cell_type": "code",
   "execution_count": 68,
   "metadata": {
    "scrolled": false
   },
   "outputs": [
    {
     "name": "stdout",
     "output_type": "stream",
     "text": [
      "The colunm name is: last_name\n",
      "There are 1655 different values.\n",
      "\n",
      "There are 2218 values in total.\n",
      "\n",
      "The most 10 frequent values are:\n",
      "           valueCounts  frequency\n",
      "Smith               19   0.008566\n",
      "Garcia              13   0.005861\n",
      "Perez               12   0.005410\n",
      "Rodriguez           12   0.005410\n",
      "Johnson             12   0.005410\n",
      "Ramirez             11   0.004959\n",
      "Hernandez           11   0.004959\n",
      "Anderson            10   0.004509\n",
      "Gonzalez            10   0.004509\n",
      "Davis               10   0.004509\n"
     ]
    },
    {
     "data": {
      "image/png": "[encoded data removed]",
      "text/plain": [
       "<Figure size 432x288 with 1 Axes>"
      ]
     },
     "metadata": {},
     "output_type": "display_data"
    }
   ],
   "source": [
    "attributeName = 'last_name'\n",
    "topFrequency = 10\n",
    "colCntPlot(player_namesDataSet, attributeName, topFrequency)"
   ]
  },
  {
   "cell_type": "markdown",
   "metadata": {},
   "source": [
    "对于**games.csv**中的标称属性“away_team”“home_team”“umpire_1B”“umpire_2B”“umpire_3B”“umpire_HP”“venue_name”"
   ]
  },
  {
   "cell_type": "code",
   "execution_count": 69,
   "metadata": {},
   "outputs": [
    {
     "name": "stdout",
     "output_type": "stream",
     "text": [
      "The colunm name is: away_team\n",
      "There are 30 different values.\n",
      "\n",
      "There are 9718 values in total.\n",
      "\n",
      "The most 10 frequent values are:\n",
      "     valueCounts  frequency\n",
      "col          325   0.033443\n",
      "mil          325   0.033443\n",
      "nya          324   0.033340\n",
      "ari          324   0.033340\n",
      "phi          324   0.033340\n",
      "sdn          324   0.033340\n",
      "lan          324   0.033340\n",
      "sea          324   0.033340\n",
      "oak          324   0.033340\n",
      "nyn          324   0.033340\n"
     ]
    },
    {
     "data": {
      "image/png": "[encoded data removed]",
      "text/plain": [
       "<Figure size 432x288 with 1 Axes>"
      ]
     },
     "metadata": {},
     "output_type": "display_data"
    }
   ],
   "source": [
    "attributeName = 'away_team'\n",
    "topFrequency = 10\n",
    "colCntPlot(gamesDataSet, attributeName, topFrequency)"
   ]
  },
  {
   "cell_type": "code",
   "execution_count": 70,
   "metadata": {},
   "outputs": [
    {
     "name": "stdout",
     "output_type": "stream",
     "text": [
      "The colunm name is: home_team\n",
      "There are 30 different values.\n",
      "\n",
      "There are 9718 values in total.\n",
      "\n",
      "The most 10 frequent values are:\n",
      "     valueCounts  frequency\n",
      "lan          325   0.033443\n",
      "chn          325   0.033443\n",
      "nya          324   0.033340\n",
      "ari          324   0.033340\n",
      "phi          324   0.033340\n",
      "sdn          324   0.033340\n",
      "col          324   0.033340\n",
      "sea          324   0.033340\n",
      "oak          324   0.033340\n",
      "nyn          324   0.033340\n"
     ]
    },
    {
     "data": {
      "image/png": "[encoded data removed]",
      "text/plain": [
       "<Figure size 432x288 with 1 Axes>"
      ]
     },
     "metadata": {},
     "output_type": "display_data"
    }
   ],
   "source": [
    "attributeName = 'home_team'\n",
    "topFrequency = 10\n",
    "colCntPlot(gamesDataSet, attributeName, topFrequency)"
   ]
  },
  {
   "cell_type": "code",
   "execution_count": 71,
   "metadata": {},
   "outputs": [
    {
     "name": "stdout",
     "output_type": "stream",
     "text": [
      "The colunm name is: umpire_1B\n",
      "There are 101 different values.\n",
      "\n",
      "There are 9718 values in total.\n",
      "\n",
      "The most 10 frequent values are:\n",
      "              valueCounts  frequency\n",
      "Gabe Morales          133   0.013686\n",
      "Adam Hamari           126   0.012966\n",
      "Mark Wegner           125   0.012863\n",
      "Ryan Blakney          125   0.012863\n",
      "John Tumpane          124   0.012760\n",
      "Jim Reynolds          124   0.012760\n",
      "Cory Blaser           123   0.012657\n",
      "Jordan Baker          122   0.012554\n",
      "Pat Hoberg            121   0.012451\n",
      "Jeff Nelson           121   0.012451\n"
     ]
    },
    {
     "data": {
      "image/png": "[encoded data removed]",
      "text/plain": [
       "<Figure size 432x288 with 1 Axes>"
      ]
     },
     "metadata": {},
     "output_type": "display_data"
    }
   ],
   "source": [
    "attributeName = 'umpire_1B'\n",
    "topFrequency = 10\n",
    "colCntPlot(gamesDataSet, attributeName, topFrequency)"
   ]
  },
  {
   "cell_type": "code",
   "execution_count": 72,
   "metadata": {},
   "outputs": [
    {
     "name": "stdout",
     "output_type": "stream",
     "text": [
      "The colunm name is: umpire_2B\n",
      "There are 101 different values.\n",
      "\n",
      "There are 9718 values in total.\n",
      "\n",
      "The most 10 frequent values are:\n",
      "                 valueCounts  frequency\n",
      "Laz Diaz                 132   0.013583\n",
      "Adam Hamari              127   0.013069\n",
      "Jerry Meals              127   0.013069\n",
      "John Tumpane             125   0.012863\n",
      "Gabe Morales             125   0.012863\n",
      "Joe West                 125   0.012863\n",
      "Mark Ripperger           125   0.012863\n",
      "Lance Barksdale          124   0.012760\n",
      "Ryan Blakney             123   0.012657\n",
      "Chris Guccione           122   0.012554\n"
     ]
    },
    {
     "data": {
      "image/png": "[encoded data removed]",
      "text/plain": [
       "<Figure size 432x288 with 1 Axes>"
      ]
     },
     "metadata": {},
     "output_type": "display_data"
    }
   ],
   "source": [
    "attributeName = 'umpire_2B'\n",
    "topFrequency = 10\n",
    "colCntPlot(gamesDataSet, attributeName, topFrequency)"
   ]
  },
  {
   "cell_type": "code",
   "execution_count": 73,
   "metadata": {},
   "outputs": [
    {
     "name": "stdout",
     "output_type": "stream",
     "text": [
      "The colunm name is: umpire_3B\n",
      "There are 103 different values.\n",
      "\n",
      "There are 9718 values in total.\n",
      "\n",
      "The most 10 frequent values are:\n",
      "               valueCounts  frequency\n",
      "Adam Hamari            133   0.013686\n",
      "John Tumpane           131   0.013480\n",
      "Joe West               131   0.013480\n",
      "Gabe Morales           128   0.013171\n",
      "Jerry Meals            127   0.013069\n",
      "Laz Diaz               127   0.013069\n",
      "Chris Conroy           126   0.012966\n",
      "Jordan Baker           126   0.012966\n",
      "Lance Barrett          126   0.012966\n",
      "Bill Welke             124   0.012760\n"
     ]
    },
    {
     "data": {
      "image/png": "[encoded data removed]",
      "text/plain": [
       "<Figure size 432x288 with 1 Axes>"
      ]
     },
     "metadata": {},
     "output_type": "display_data"
    }
   ],
   "source": [
    "attributeName = 'umpire_3B'\n",
    "topFrequency = 10\n",
    "colCntPlot(gamesDataSet, attributeName, topFrequency)"
   ]
  },
  {
   "cell_type": "code",
   "execution_count": 74,
   "metadata": {},
   "outputs": [
    {
     "name": "stdout",
     "output_type": "stream",
     "text": [
      "The colunm name is: umpire_HP\n",
      "There are 101 different values.\n",
      "\n",
      "There are 9718 values in total.\n",
      "\n",
      "The most 10 frequent values are:\n",
      "              valueCounts  frequency\n",
      "Joe West              133   0.013686\n",
      "Adam Hamari           127   0.013069\n",
      "Bill Miller           126   0.012966\n",
      "Jerry Meals           126   0.012966\n",
      "Gabe Morales          124   0.012760\n",
      "Jordan Baker          123   0.012657\n",
      "Jeff Nelson           122   0.012554\n",
      "Mark Wegner           122   0.012554\n",
      "John Tumpane          122   0.012554\n",
      "Tim Timmons           121   0.012451\n"
     ]
    },
    {
     "data": {
      "image/png": "[encoded data removed]",
      "text/plain": [
       "<Figure size 432x288 with 1 Axes>"
      ]
     },
     "metadata": {},
     "output_type": "display_data"
    }
   ],
   "source": [
    "attributeName = 'umpire_HP'\n",
    "topFrequency = 10\n",
    "colCntPlot(gamesDataSet, attributeName, topFrequency)"
   ]
  },
  {
   "cell_type": "code",
   "execution_count": 75,
   "metadata": {
    "scrolled": false
   },
   "outputs": [
    {
     "name": "stdout",
     "output_type": "stream",
     "text": [
      "The colunm name is: venue_name\n",
      "There are 39 different values.\n",
      "\n",
      "There are 9718 values in total.\n",
      "\n",
      "The most 10 frequent values are:\n",
      "                 valueCounts  frequency\n",
      "Citi Field               327   0.033649\n",
      "Tropicana Field          327   0.033649\n",
      "Miller Park              327   0.033649\n",
      "Wrigley Field            325   0.033443\n",
      "Dodger Stadium           325   0.033443\n",
      "Fenway Park              324   0.033340\n",
      "Rogers Centre            324   0.033340\n",
      "Coors Field              324   0.033340\n",
      "Busch Stadium            324   0.033340\n",
      "Chase Field              324   0.033340\n"
     ]
    },
    {
     "data": {
      "image/png": "[encoded data removed]",
      "text/plain": [
       "<Figure size 432x288 with 1 Axes>"
      ]
     },
     "metadata": {},
     "output_type": "display_data"
    }
   ],
   "source": [
    "attributeName = 'venue_name'\n",
    "topFrequency = 10\n",
    "colCntPlot(gamesDataSet, attributeName, topFrequency)"
   ]
  },
  {
   "cell_type": "markdown",
   "metadata": {},
   "source": [
    "所以说，该数据中具有的标称属性有7个（country, designation, province, region_1, region_2, variety, winery），\n",
    "而数值属性为2个（points, price）。"
   ]
  },
  {
   "cell_type": "markdown",
   "metadata": {},
   "source": [
    "对于**ejections.csv**中的标称属性“BS”“CORRECT”“team”"
   ]
  },
  {
   "cell_type": "code",
   "execution_count": 76,
   "metadata": {},
   "outputs": [
    {
     "name": "stdout",
     "output_type": "stream",
     "text": [
      "The colunm name is: BS\n",
      "There are 1 different values.\n",
      "\n",
      "There are 761 values in total.\n",
      "\n",
      "The most 10 frequent values are:\n",
      "   valueCounts  frequency\n",
      "Y          395   0.519054\n"
     ]
    },
    {
     "data": {
      "image/png": "[encoded data removed]",
      "text/plain": [
       "<Figure size 432x288 with 1 Axes>"
      ]
     },
     "metadata": {},
     "output_type": "display_data"
    }
   ],
   "source": [
    "attributeName = 'BS'\n",
    "topFrequency = 10\n",
    "colCntPlot(ejectionsDataSet, attributeName, topFrequency)"
   ]
  },
  {
   "cell_type": "code",
   "execution_count": 77,
   "metadata": {},
   "outputs": [
    {
     "name": "stdout",
     "output_type": "stream",
     "text": [
      "The colunm name is: CORRECT\n",
      "There are 3 different values.\n",
      "\n",
      "There are 761 values in total.\n",
      "\n",
      "The most 3 frequent values are:\n",
      "    valueCounts  frequency\n",
      "C           236   0.310118\n",
      "I           150   0.197109\n",
      "IC            9   0.011827\n"
     ]
    },
    {
     "data": {
      "image/png": "[encoded data removed]",
      "text/plain": [
       "<Figure size 432x288 with 1 Axes>"
      ]
     },
     "metadata": {},
     "output_type": "display_data"
    }
   ],
   "source": [
    "attributeName = 'CORRECT'\n",
    "topFrequency = 3\n",
    "colCntPlot(ejectionsDataSet, attributeName, topFrequency)"
   ]
  },
  {
   "cell_type": "code",
   "execution_count": 78,
   "metadata": {},
   "outputs": [
    {
     "name": "stdout",
     "output_type": "stream",
     "text": [
      "The colunm name is: team\n",
      "There are 30 different values.\n",
      "\n",
      "There are 761 values in total.\n",
      "\n",
      "The most 10 frequent values are:\n",
      "     valueCounts  frequency\n",
      "tor           49   0.064389\n",
      "cha           36   0.047306\n",
      "det           36   0.047306\n",
      "nya           34   0.044678\n",
      "pit           33   0.043364\n",
      "kca           32   0.042050\n",
      "sdn           31   0.040736\n",
      "was           28   0.036794\n",
      "chn           28   0.036794\n",
      "lan           28   0.036794\n"
     ]
    },
    {
     "data": {
      "image/png": "[encoded data removed]",
      "text/plain": [
       "<Figure size 432x288 with 1 Axes>"
      ]
     },
     "metadata": {},
     "output_type": "display_data"
    }
   ],
   "source": [
    "attributeName = 'team'\n",
    "topFrequency = 10\n",
    "colCntPlot(ejectionsDataSet, attributeName, topFrequency)"
   ]
  },
  {
   "cell_type": "markdown",
   "metadata": {},
   "source": [
    "对于atbats.csv中的标称属性“event”“stand”"
   ]
  },
  {
   "cell_type": "code",
   "execution_count": 79,
   "metadata": {},
   "outputs": [
    {
     "name": "stdout",
     "output_type": "stream",
     "text": [
      "The colunm name is: event\n",
      "There are 30 different values.\n",
      "\n",
      "There are 740389 values in total.\n",
      "\n",
      "The most 10 frequent values are:\n",
      "           valueCounts  frequency\n",
      "Strikeout       157128   0.212224\n",
      "Groundout       134893   0.182192\n",
      "Single          108794   0.146942\n",
      "Flyout           80731   0.109039\n",
      "Walk             56894   0.076843\n",
      "Lineout          44934   0.060690\n",
      "Pop Out          34455   0.046536\n",
      "Double           33157   0.044783\n",
      "Home Run         22209   0.029996\n",
      "Forceout         15112   0.020411\n"
     ]
    },
    {
     "data": {
      "image/png": "[encoded data removed]",
      "text/plain": [
       "<Figure size 432x288 with 1 Axes>"
      ]
     },
     "metadata": {},
     "output_type": "display_data"
    }
   ],
   "source": [
    "attributeName = 'event'\n",
    "topFrequency = 10\n",
    "colCntPlot(atbatsDataSet, attributeName, topFrequency)"
   ]
  },
  {
   "cell_type": "code",
   "execution_count": 80,
   "metadata": {},
   "outputs": [
    {
     "name": "stdout",
     "output_type": "stream",
     "text": [
      "The colunm name is: stand\n",
      "There are 2 different values.\n",
      "\n",
      "There are 740389 values in total.\n",
      "\n",
      "The most 2 frequent values are:\n",
      "   valueCounts  frequency\n",
      "R       433070   0.584922\n",
      "L       307319   0.415078\n"
     ]
    },
    {
     "data": {
      "image/png": "[encoded data removed]",
      "text/plain": [
       "<Figure size 432x288 with 1 Axes>"
      ]
     },
     "metadata": {},
     "output_type": "display_data"
    }
   ],
   "source": [
    "attributeName = 'stand'\n",
    "topFrequency = 2\n",
    "colCntPlot(atbatsDataSet, attributeName, topFrequency)"
   ]
  },
  {
   "cell_type": "markdown",
   "metadata": {},
   "source": [
    "**数值属性摘要**  \n",
    "该部分包括“数值数据摘要（五数概括）”以及“缺失值统计”"
   ]
  },
  {
   "cell_type": "markdown",
   "metadata": {},
   "source": [
    "数值数据摘要（五数概括）如下所示："
   ]
  },
  {
   "cell_type": "code",
   "execution_count": 81,
   "metadata": {
    "scrolled": true
   },
   "outputs": [
    {
     "name": "stdout",
     "output_type": "stream",
     "text": [
      "player_names\n"
     ]
    },
    {
     "data": {
      "text/html": [
       "<div>\n",
       "<style scoped>\n",
       "    .dataframe tbody tr th:only-of-type {\n",
       "        vertical-align: middle;\n",
       "    }\n",
       "\n",
       "    .dataframe tbody tr th {\n",
       "        vertical-align: top;\n",
       "    }\n",
       "\n",
       "    .dataframe thead th {\n",
       "        text-align: right;\n",
       "    }\n",
       "</style>\n",
       "<table border=\"1\" class=\"dataframe\">\n",
       "  <thead>\n",
       "    <tr style=\"text-align: right;\">\n",
       "      <th></th>\n",
       "      <th>id</th>\n",
       "    </tr>\n",
       "  </thead>\n",
       "  <tbody>\n",
       "    <tr>\n",
       "      <th>count</th>\n",
       "      <td>2218.000000</td>\n",
       "    </tr>\n",
       "    <tr>\n",
       "      <th>mean</th>\n",
       "      <td>542649.222272</td>\n",
       "    </tr>\n",
       "    <tr>\n",
       "      <th>std</th>\n",
       "      <td>81408.817596</td>\n",
       "    </tr>\n",
       "    <tr>\n",
       "      <th>min</th>\n",
       "      <td>112526.000000</td>\n",
       "    </tr>\n",
       "    <tr>\n",
       "      <th>25%</th>\n",
       "      <td>488774.750000</td>\n",
       "    </tr>\n",
       "    <tr>\n",
       "      <th>50%</th>\n",
       "      <td>547088.500000</td>\n",
       "    </tr>\n",
       "    <tr>\n",
       "      <th>75%</th>\n",
       "      <td>605354.500000</td>\n",
       "    </tr>\n",
       "    <tr>\n",
       "      <th>max</th>\n",
       "      <td>673633.000000</td>\n",
       "    </tr>\n",
       "  </tbody>\n",
       "</table>\n",
       "</div>"
      ],
      "text/plain": [
       "                  id\n",
       "count    2218.000000\n",
       "mean   542649.222272\n",
       "std     81408.817596\n",
       "min    112526.000000\n",
       "25%    488774.750000\n",
       "50%    547088.500000\n",
       "75%    605354.500000\n",
       "max    673633.000000"
      ]
     },
     "execution_count": 81,
     "metadata": {},
     "output_type": "execute_result"
    }
   ],
   "source": [
    "print('player_names')\n",
    "player_namesDataSet.describe()"
   ]
  },
  {
   "cell_type": "code",
   "execution_count": 82,
   "metadata": {},
   "outputs": [
    {
     "name": "stdout",
     "output_type": "stream",
     "text": [
      "pitches\n"
     ]
    },
    {
     "data": {
      "text/html": [
       "<div>\n",
       "<style scoped>\n",
       "    .dataframe tbody tr th:only-of-type {\n",
       "        vertical-align: middle;\n",
       "    }\n",
       "\n",
       "    .dataframe tbody tr th {\n",
       "        vertical-align: top;\n",
       "    }\n",
       "\n",
       "    .dataframe thead th {\n",
       "        text-align: right;\n",
       "    }\n",
       "</style>\n",
       "<table border=\"1\" class=\"dataframe\">\n",
       "  <thead>\n",
       "    <tr style=\"text-align: right;\">\n",
       "      <th></th>\n",
       "      <th>px</th>\n",
       "      <th>pz</th>\n",
       "      <th>start_speed</th>\n",
       "      <th>end_speed</th>\n",
       "      <th>spin_rate</th>\n",
       "      <th>spin_dir</th>\n",
       "      <th>break_angle</th>\n",
       "      <th>break_length</th>\n",
       "      <th>break_y</th>\n",
       "      <th>ax</th>\n",
       "      <th>...</th>\n",
       "      <th>event_num</th>\n",
       "      <th>b_score</th>\n",
       "      <th>ab_id</th>\n",
       "      <th>b_count</th>\n",
       "      <th>s_count</th>\n",
       "      <th>outs</th>\n",
       "      <th>pitch_num</th>\n",
       "      <th>on_1b</th>\n",
       "      <th>on_2b</th>\n",
       "      <th>on_3b</th>\n",
       "    </tr>\n",
       "  </thead>\n",
       "  <tbody>\n",
       "    <tr>\n",
       "      <th>count</th>\n",
       "      <td>2.852965e+06</td>\n",
       "      <td>2.852965e+06</td>\n",
       "      <td>2.853040e+06</td>\n",
       "      <td>2.853040e+06</td>\n",
       "      <td>2.852965e+06</td>\n",
       "      <td>2.852965e+06</td>\n",
       "      <td>2.852965e+06</td>\n",
       "      <td>2.852965e+06</td>\n",
       "      <td>2.852965e+06</td>\n",
       "      <td>2.852965e+06</td>\n",
       "      <td>...</td>\n",
       "      <td>2.867154e+06</td>\n",
       "      <td>2.867154e+06</td>\n",
       "      <td>2.867154e+06</td>\n",
       "      <td>2.867154e+06</td>\n",
       "      <td>2.867154e+06</td>\n",
       "      <td>2.867154e+06</td>\n",
       "      <td>2.867154e+06</td>\n",
       "      <td>2.867154e+06</td>\n",
       "      <td>2.867154e+06</td>\n",
       "      <td>2.867154e+06</td>\n",
       "    </tr>\n",
       "    <tr>\n",
       "      <th>mean</th>\n",
       "      <td>6.572502e-03</td>\n",
       "      <td>2.254962e+00</td>\n",
       "      <td>8.838124e+01</td>\n",
       "      <td>8.136274e+01</td>\n",
       "      <td>1.731173e+03</td>\n",
       "      <td>1.802308e+02</td>\n",
       "      <td>5.848084e+00</td>\n",
       "      <td>6.601459e+00</td>\n",
       "      <td>2.381685e+01</td>\n",
       "      <td>-2.308512e+00</td>\n",
       "      <td>...</td>\n",
       "      <td>3.129711e+02</td>\n",
       "      <td>2.256608e+00</td>\n",
       "      <td>2.016606e+09</td>\n",
       "      <td>8.824259e-01</td>\n",
       "      <td>8.810873e-01</td>\n",
       "      <td>9.826033e-01</td>\n",
       "      <td>2.894472e+00</td>\n",
       "      <td>3.018314e-01</td>\n",
       "      <td>1.860451e-01</td>\n",
       "      <td>9.595543e-02</td>\n",
       "    </tr>\n",
       "    <tr>\n",
       "      <th>std</th>\n",
       "      <td>8.927490e-01</td>\n",
       "      <td>9.463968e-01</td>\n",
       "      <td>6.015540e+00</td>\n",
       "      <td>5.364057e+00</td>\n",
       "      <td>6.827521e+02</td>\n",
       "      <td>6.742859e+01</td>\n",
       "      <td>2.443621e+01</td>\n",
       "      <td>1.331708e+02</td>\n",
       "      <td>6.446540e-02</td>\n",
       "      <td>1.074066e+01</td>\n",
       "      <td>...</td>\n",
       "      <td>1.928482e+02</td>\n",
       "      <td>2.550955e+00</td>\n",
       "      <td>1.117238e+06</td>\n",
       "      <td>9.665457e-01</td>\n",
       "      <td>8.251786e-01</td>\n",
       "      <td>8.174947e-01</td>\n",
       "      <td>1.726595e+00</td>\n",
       "      <td>4.590526e-01</td>\n",
       "      <td>3.891431e-01</td>\n",
       "      <td>2.945302e-01</td>\n",
       "    </tr>\n",
       "    <tr>\n",
       "      <th>min</th>\n",
       "      <td>-1.054333e+01</td>\n",
       "      <td>-5.183664e+00</td>\n",
       "      <td>3.390000e+01</td>\n",
       "      <td>3.240000e+01</td>\n",
       "      <td>1.214000e+00</td>\n",
       "      <td>-2.000000e-03</td>\n",
       "      <td>-9.000000e+01</td>\n",
       "      <td>1.000000e-01</td>\n",
       "      <td>2.330000e+01</td>\n",
       "      <td>-5.929009e+01</td>\n",
       "      <td>...</td>\n",
       "      <td>3.000000e+00</td>\n",
       "      <td>0.000000e+00</td>\n",
       "      <td>2.015000e+09</td>\n",
       "      <td>0.000000e+00</td>\n",
       "      <td>0.000000e+00</td>\n",
       "      <td>0.000000e+00</td>\n",
       "      <td>1.000000e+00</td>\n",
       "      <td>0.000000e+00</td>\n",
       "      <td>0.000000e+00</td>\n",
       "      <td>0.000000e+00</td>\n",
       "    </tr>\n",
       "    <tr>\n",
       "      <th>25%</th>\n",
       "      <td>-5.908243e-01</td>\n",
       "      <td>1.650000e+00</td>\n",
       "      <td>8.430000e+01</td>\n",
       "      <td>7.790000e+01</td>\n",
       "      <td>1.238745e+03</td>\n",
       "      <td>1.371540e+02</td>\n",
       "      <td>-1.190000e+01</td>\n",
       "      <td>4.300000e+00</td>\n",
       "      <td>2.380000e+01</td>\n",
       "      <td>-1.129000e+01</td>\n",
       "      <td>...</td>\n",
       "      <td>1.490000e+02</td>\n",
       "      <td>0.000000e+00</td>\n",
       "      <td>2.016004e+09</td>\n",
       "      <td>0.000000e+00</td>\n",
       "      <td>0.000000e+00</td>\n",
       "      <td>0.000000e+00</td>\n",
       "      <td>1.000000e+00</td>\n",
       "      <td>0.000000e+00</td>\n",
       "      <td>0.000000e+00</td>\n",
       "      <td>0.000000e+00</td>\n",
       "    </tr>\n",
       "    <tr>\n",
       "      <th>50%</th>\n",
       "      <td>1.300000e-02</td>\n",
       "      <td>2.259000e+00</td>\n",
       "      <td>8.970000e+01</td>\n",
       "      <td>8.250000e+01</td>\n",
       "      <td>1.866322e+03</td>\n",
       "      <td>1.958850e+02</td>\n",
       "      <td>6.800000e+00</td>\n",
       "      <td>6.000000e+00</td>\n",
       "      <td>2.380000e+01</td>\n",
       "      <td>-3.142000e+00</td>\n",
       "      <td>...</td>\n",
       "      <td>3.020000e+02</td>\n",
       "      <td>1.000000e+00</td>\n",
       "      <td>2.017004e+09</td>\n",
       "      <td>1.000000e+00</td>\n",
       "      <td>1.000000e+00</td>\n",
       "      <td>1.000000e+00</td>\n",
       "      <td>3.000000e+00</td>\n",
       "      <td>0.000000e+00</td>\n",
       "      <td>0.000000e+00</td>\n",
       "      <td>0.000000e+00</td>\n",
       "    </tr>\n",
       "    <tr>\n",
       "      <th>75%</th>\n",
       "      <td>6.090000e-01</td>\n",
       "      <td>2.863000e+00</td>\n",
       "      <td>9.300000e+01</td>\n",
       "      <td>8.540000e+01</td>\n",
       "      <td>2.247564e+03</td>\n",
       "      <td>2.252340e+02</td>\n",
       "      <td>2.700000e+01</td>\n",
       "      <td>8.000000e+00</td>\n",
       "      <td>2.390000e+01</td>\n",
       "      <td>5.995827e+00</td>\n",
       "      <td>...</td>\n",
       "      <td>4.640000e+02</td>\n",
       "      <td>3.000000e+00</td>\n",
       "      <td>2.018002e+09</td>\n",
       "      <td>2.000000e+00</td>\n",
       "      <td>2.000000e+00</td>\n",
       "      <td>2.000000e+00</td>\n",
       "      <td>4.000000e+00</td>\n",
       "      <td>1.000000e+00</td>\n",
       "      <td>0.000000e+00</td>\n",
       "      <td>0.000000e+00</td>\n",
       "    </tr>\n",
       "    <tr>\n",
       "      <th>max</th>\n",
       "      <td>1.295291e+01</td>\n",
       "      <td>1.488624e+01</td>\n",
       "      <td>1.050000e+02</td>\n",
       "      <td>9.690000e+01</td>\n",
       "      <td>6.539259e+03</td>\n",
       "      <td>3.600010e+02</td>\n",
       "      <td>2.694000e+02</td>\n",
       "      <td>2.248893e+05</td>\n",
       "      <td>3.640000e+01</td>\n",
       "      <td>4.097800e+01</td>\n",
       "      <td>...</td>\n",
       "      <td>1.336000e+03</td>\n",
       "      <td>2.500000e+01</td>\n",
       "      <td>2.018186e+09</td>\n",
       "      <td>4.000000e+00</td>\n",
       "      <td>2.000000e+00</td>\n",
       "      <td>2.000000e+00</td>\n",
       "      <td>2.100000e+01</td>\n",
       "      <td>1.000000e+00</td>\n",
       "      <td>1.000000e+00</td>\n",
       "      <td>1.000000e+00</td>\n",
       "    </tr>\n",
       "  </tbody>\n",
       "</table>\n",
       "<p>8 rows × 37 columns</p>\n",
       "</div>"
      ],
      "text/plain": [
       "                 px            pz   start_speed     end_speed     spin_rate  \\\n",
       "count  2.852965e+06  2.852965e+06  2.853040e+06  2.853040e+06  2.852965e+06   \n",
       "mean   6.572502e-03  2.254962e+00  8.838124e+01  8.136274e+01  1.731173e+03   \n",
       "std    8.927490e-01  9.463968e-01  6.015540e+00  5.364057e+00  6.827521e+02   \n",
       "min   -1.054333e+01 -5.183664e+00  3.390000e+01  3.240000e+01  1.214000e+00   \n",
       "25%   -5.908243e-01  1.650000e+00  8.430000e+01  7.790000e+01  1.238745e+03   \n",
       "50%    1.300000e-02  2.259000e+00  8.970000e+01  8.250000e+01  1.866322e+03   \n",
       "75%    6.090000e-01  2.863000e+00  9.300000e+01  8.540000e+01  2.247564e+03   \n",
       "max    1.295291e+01  1.488624e+01  1.050000e+02  9.690000e+01  6.539259e+03   \n",
       "\n",
       "           spin_dir   break_angle  break_length       break_y            ax  \\\n",
       "count  2.852965e+06  2.852965e+06  2.852965e+06  2.852965e+06  2.852965e+06   \n",
       "mean   1.802308e+02  5.848084e+00  6.601459e+00  2.381685e+01 -2.308512e+00   \n",
       "std    6.742859e+01  2.443621e+01  1.331708e+02  6.446540e-02  1.074066e+01   \n",
       "min   -2.000000e-03 -9.000000e+01  1.000000e-01  2.330000e+01 -5.929009e+01   \n",
       "25%    1.371540e+02 -1.190000e+01  4.300000e+00  2.380000e+01 -1.129000e+01   \n",
       "50%    1.958850e+02  6.800000e+00  6.000000e+00  2.380000e+01 -3.142000e+00   \n",
       "75%    2.252340e+02  2.700000e+01  8.000000e+00  2.390000e+01  5.995827e+00   \n",
       "max    3.600010e+02  2.694000e+02  2.248893e+05  3.640000e+01  4.097800e+01   \n",
       "\n",
       "           ...          event_num       b_score         ab_id       b_count  \\\n",
       "count      ...       2.867154e+06  2.867154e+06  2.867154e+06  2.867154e+06   \n",
       "mean       ...       3.129711e+02  2.256608e+00  2.016606e+09  8.824259e-01   \n",
       "std        ...       1.928482e+02  2.550955e+00  1.117238e+06  9.665457e-01   \n",
       "min        ...       3.000000e+00  0.000000e+00  2.015000e+09  0.000000e+00   \n",
       "25%        ...       1.490000e+02  0.000000e+00  2.016004e+09  0.000000e+00   \n",
       "50%        ...       3.020000e+02  1.000000e+00  2.017004e+09  1.000000e+00   \n",
       "75%        ...       4.640000e+02  3.000000e+00  2.018002e+09  2.000000e+00   \n",
       "max        ...       1.336000e+03  2.500000e+01  2.018186e+09  4.000000e+00   \n",
       "\n",
       "            s_count          outs     pitch_num         on_1b         on_2b  \\\n",
       "count  2.867154e+06  2.867154e+06  2.867154e+06  2.867154e+06  2.867154e+06   \n",
       "mean   8.810873e-01  9.826033e-01  2.894472e+00  3.018314e-01  1.860451e-01   \n",
       "std    8.251786e-01  8.174947e-01  1.726595e+00  4.590526e-01  3.891431e-01   \n",
       "min    0.000000e+00  0.000000e+00  1.000000e+00  0.000000e+00  0.000000e+00   \n",
       "25%    0.000000e+00  0.000000e+00  1.000000e+00  0.000000e+00  0.000000e+00   \n",
       "50%    1.000000e+00  1.000000e+00  3.000000e+00  0.000000e+00  0.000000e+00   \n",
       "75%    2.000000e+00  2.000000e+00  4.000000e+00  1.000000e+00  0.000000e+00   \n",
       "max    2.000000e+00  2.000000e+00  2.100000e+01  1.000000e+00  1.000000e+00   \n",
       "\n",
       "              on_3b  \n",
       "count  2.867154e+06  \n",
       "mean   9.595543e-02  \n",
       "std    2.945302e-01  \n",
       "min    0.000000e+00  \n",
       "25%    0.000000e+00  \n",
       "50%    0.000000e+00  \n",
       "75%    0.000000e+00  \n",
       "max    1.000000e+00  \n",
       "\n",
       "[8 rows x 37 columns]"
      ]
     },
     "execution_count": 82,
     "metadata": {},
     "output_type": "execute_result"
    }
   ],
   "source": [
    "print('pitches')\n",
    "pitchesDataSet.describe()"
   ]
  },
  {
   "cell_type": "code",
   "execution_count": 83,
   "metadata": {},
   "outputs": [
    {
     "name": "stdout",
     "output_type": "stream",
     "text": [
      "games\n"
     ]
    },
    {
     "data": {
      "text/html": [
       "<div>\n",
       "<style scoped>\n",
       "    .dataframe tbody tr th:only-of-type {\n",
       "        vertical-align: middle;\n",
       "    }\n",
       "\n",
       "    .dataframe tbody tr th {\n",
       "        vertical-align: top;\n",
       "    }\n",
       "\n",
       "    .dataframe thead th {\n",
       "        text-align: right;\n",
       "    }\n",
       "</style>\n",
       "<table border=\"1\" class=\"dataframe\">\n",
       "  <thead>\n",
       "    <tr style=\"text-align: right;\">\n",
       "      <th></th>\n",
       "      <th>attendance</th>\n",
       "      <th>away_final_score</th>\n",
       "      <th>elapsed_time</th>\n",
       "      <th>g_id</th>\n",
       "      <th>home_final_score</th>\n",
       "      <th>delay</th>\n",
       "    </tr>\n",
       "  </thead>\n",
       "  <tbody>\n",
       "    <tr>\n",
       "      <th>count</th>\n",
       "      <td>9718.000000</td>\n",
       "      <td>9718.000000</td>\n",
       "      <td>9718.000000</td>\n",
       "      <td>9.718000e+03</td>\n",
       "      <td>9718.000000</td>\n",
       "      <td>9718.000000</td>\n",
       "    </tr>\n",
       "    <tr>\n",
       "      <th>mean</th>\n",
       "      <td>29765.464808</td>\n",
       "      <td>4.371887</td>\n",
       "      <td>184.816835</td>\n",
       "      <td>2.016513e+08</td>\n",
       "      <td>4.537662</td>\n",
       "      <td>3.885985</td>\n",
       "    </tr>\n",
       "    <tr>\n",
       "      <th>std</th>\n",
       "      <td>10213.569891</td>\n",
       "      <td>3.145571</td>\n",
       "      <td>27.211720</td>\n",
       "      <td>1.118210e+05</td>\n",
       "      <td>3.160320</td>\n",
       "      <td>27.199494</td>\n",
       "    </tr>\n",
       "    <tr>\n",
       "      <th>min</th>\n",
       "      <td>0.000000</td>\n",
       "      <td>0.000000</td>\n",
       "      <td>75.000000</td>\n",
       "      <td>2.015000e+08</td>\n",
       "      <td>0.000000</td>\n",
       "      <td>0.000000</td>\n",
       "    </tr>\n",
       "    <tr>\n",
       "      <th>25%</th>\n",
       "      <td>21791.000000</td>\n",
       "      <td>2.000000</td>\n",
       "      <td>167.000000</td>\n",
       "      <td>2.016000e+08</td>\n",
       "      <td>2.000000</td>\n",
       "      <td>0.000000</td>\n",
       "    </tr>\n",
       "    <tr>\n",
       "      <th>50%</th>\n",
       "      <td>30113.000000</td>\n",
       "      <td>4.000000</td>\n",
       "      <td>182.000000</td>\n",
       "      <td>2.017000e+08</td>\n",
       "      <td>4.000000</td>\n",
       "      <td>0.000000</td>\n",
       "    </tr>\n",
       "    <tr>\n",
       "      <th>75%</th>\n",
       "      <td>37953.000000</td>\n",
       "      <td>6.000000</td>\n",
       "      <td>199.000000</td>\n",
       "      <td>2.018000e+08</td>\n",
       "      <td>6.000000</td>\n",
       "      <td>0.000000</td>\n",
       "    </tr>\n",
       "    <tr>\n",
       "      <th>max</th>\n",
       "      <td>56310.000000</td>\n",
       "      <td>24.000000</td>\n",
       "      <td>409.000000</td>\n",
       "      <td>2.018024e+08</td>\n",
       "      <td>25.000000</td>\n",
       "      <td>1860.000000</td>\n",
       "    </tr>\n",
       "  </tbody>\n",
       "</table>\n",
       "</div>"
      ],
      "text/plain": [
       "         attendance  away_final_score  elapsed_time          g_id  \\\n",
       "count   9718.000000       9718.000000   9718.000000  9.718000e+03   \n",
       "mean   29765.464808          4.371887    184.816835  2.016513e+08   \n",
       "std    10213.569891          3.145571     27.211720  1.118210e+05   \n",
       "min        0.000000          0.000000     75.000000  2.015000e+08   \n",
       "25%    21791.000000          2.000000    167.000000  2.016000e+08   \n",
       "50%    30113.000000          4.000000    182.000000  2.017000e+08   \n",
       "75%    37953.000000          6.000000    199.000000  2.018000e+08   \n",
       "max    56310.000000         24.000000    409.000000  2.018024e+08   \n",
       "\n",
       "       home_final_score        delay  \n",
       "count       9718.000000  9718.000000  \n",
       "mean           4.537662     3.885985  \n",
       "std            3.160320    27.199494  \n",
       "min            0.000000     0.000000  \n",
       "25%            2.000000     0.000000  \n",
       "50%            4.000000     0.000000  \n",
       "75%            6.000000     0.000000  \n",
       "max           25.000000  1860.000000  "
      ]
     },
     "execution_count": 83,
     "metadata": {},
     "output_type": "execute_result"
    }
   ],
   "source": [
    "print('games')\n",
    "gamesDataSet.describe()"
   ]
  },
  {
   "cell_type": "code",
   "execution_count": 84,
   "metadata": {},
   "outputs": [
    {
     "name": "stdout",
     "output_type": "stream",
     "text": [
      "ejections\n"
     ]
    },
    {
     "data": {
      "text/html": [
       "<div>\n",
       "<style scoped>\n",
       "    .dataframe tbody tr th:only-of-type {\n",
       "        vertical-align: middle;\n",
       "    }\n",
       "\n",
       "    .dataframe tbody tr th {\n",
       "        vertical-align: top;\n",
       "    }\n",
       "\n",
       "    .dataframe thead th {\n",
       "        text-align: right;\n",
       "    }\n",
       "</style>\n",
       "<table border=\"1\" class=\"dataframe\">\n",
       "  <thead>\n",
       "    <tr style=\"text-align: right;\">\n",
       "      <th></th>\n",
       "      <th>ab_id</th>\n",
       "      <th>event_num</th>\n",
       "      <th>g_id</th>\n",
       "      <th>player_id</th>\n",
       "    </tr>\n",
       "  </thead>\n",
       "  <tbody>\n",
       "    <tr>\n",
       "      <th>count</th>\n",
       "      <td>7.610000e+02</td>\n",
       "      <td>761.000000</td>\n",
       "      <td>7.610000e+02</td>\n",
       "      <td>761.000000</td>\n",
       "    </tr>\n",
       "    <tr>\n",
       "      <th>mean</th>\n",
       "      <td>2.016517e+09</td>\n",
       "      <td>399.948752</td>\n",
       "      <td>2.016435e+08</td>\n",
       "      <td>339704.909330</td>\n",
       "    </tr>\n",
       "    <tr>\n",
       "      <th>std</th>\n",
       "      <td>1.132613e+06</td>\n",
       "      <td>180.921999</td>\n",
       "      <td>1.127774e+05</td>\n",
       "      <td>191312.499283</td>\n",
       "    </tr>\n",
       "    <tr>\n",
       "      <th>min</th>\n",
       "      <td>2.015003e+09</td>\n",
       "      <td>4.000000</td>\n",
       "      <td>2.015000e+08</td>\n",
       "      <td>110385.000000</td>\n",
       "    </tr>\n",
       "    <tr>\n",
       "      <th>25%</th>\n",
       "      <td>2.015152e+09</td>\n",
       "      <td>264.000000</td>\n",
       "      <td>2.015020e+08</td>\n",
       "      <td>118443.000000</td>\n",
       "    </tr>\n",
       "    <tr>\n",
       "      <th>50%</th>\n",
       "      <td>2.016171e+09</td>\n",
       "      <td>413.000000</td>\n",
       "      <td>2.016022e+08</td>\n",
       "      <td>427406.000000</td>\n",
       "    </tr>\n",
       "    <tr>\n",
       "      <th>75%</th>\n",
       "      <td>2.017166e+09</td>\n",
       "      <td>527.000000</td>\n",
       "      <td>2.017022e+08</td>\n",
       "      <td>492917.000000</td>\n",
       "    </tr>\n",
       "    <tr>\n",
       "      <th>max</th>\n",
       "      <td>2.018182e+09</td>\n",
       "      <td>1065.000000</td>\n",
       "      <td>2.018024e+08</td>\n",
       "      <td>665742.000000</td>\n",
       "    </tr>\n",
       "  </tbody>\n",
       "</table>\n",
       "</div>"
      ],
      "text/plain": [
       "              ab_id    event_num          g_id      player_id\n",
       "count  7.610000e+02   761.000000  7.610000e+02     761.000000\n",
       "mean   2.016517e+09   399.948752  2.016435e+08  339704.909330\n",
       "std    1.132613e+06   180.921999  1.127774e+05  191312.499283\n",
       "min    2.015003e+09     4.000000  2.015000e+08  110385.000000\n",
       "25%    2.015152e+09   264.000000  2.015020e+08  118443.000000\n",
       "50%    2.016171e+09   413.000000  2.016022e+08  427406.000000\n",
       "75%    2.017166e+09   527.000000  2.017022e+08  492917.000000\n",
       "max    2.018182e+09  1065.000000  2.018024e+08  665742.000000"
      ]
     },
     "execution_count": 84,
     "metadata": {},
     "output_type": "execute_result"
    }
   ],
   "source": [
    "print('ejections')\n",
    "ejectionsDataSet.describe()"
   ]
  },
  {
   "cell_type": "code",
   "execution_count": 85,
   "metadata": {},
   "outputs": [
    {
     "name": "stdout",
     "output_type": "stream",
     "text": [
      "atbats\n"
     ]
    },
    {
     "data": {
      "text/html": [
       "<div>\n",
       "<style scoped>\n",
       "    .dataframe tbody tr th:only-of-type {\n",
       "        vertical-align: middle;\n",
       "    }\n",
       "\n",
       "    .dataframe tbody tr th {\n",
       "        vertical-align: top;\n",
       "    }\n",
       "\n",
       "    .dataframe thead th {\n",
       "        text-align: right;\n",
       "    }\n",
       "</style>\n",
       "<table border=\"1\" class=\"dataframe\">\n",
       "  <thead>\n",
       "    <tr style=\"text-align: right;\">\n",
       "      <th></th>\n",
       "      <th>ab_id</th>\n",
       "      <th>batter_id</th>\n",
       "      <th>g_id</th>\n",
       "      <th>inning</th>\n",
       "      <th>o</th>\n",
       "      <th>p_score</th>\n",
       "      <th>pitcher_id</th>\n",
       "    </tr>\n",
       "  </thead>\n",
       "  <tbody>\n",
       "    <tr>\n",
       "      <th>count</th>\n",
       "      <td>7.403890e+05</td>\n",
       "      <td>740389.000000</td>\n",
       "      <td>7.403890e+05</td>\n",
       "      <td>740389.000000</td>\n",
       "      <td>740389.000000</td>\n",
       "      <td>740389.000000</td>\n",
       "      <td>740389.000000</td>\n",
       "    </tr>\n",
       "    <tr>\n",
       "      <th>mean</th>\n",
       "      <td>2.016596e+09</td>\n",
       "      <td>520222.971504</td>\n",
       "      <td>2.016516e+08</td>\n",
       "      <td>5.008161</td>\n",
       "      <td>1.676713</td>\n",
       "      <td>2.286258</td>\n",
       "      <td>526829.729136</td>\n",
       "    </tr>\n",
       "    <tr>\n",
       "      <th>std</th>\n",
       "      <td>1.118980e+06</td>\n",
       "      <td>81257.093703</td>\n",
       "      <td>1.117423e+05</td>\n",
       "      <td>2.656350</td>\n",
       "      <td>0.954318</td>\n",
       "      <td>2.630178</td>\n",
       "      <td>78213.760533</td>\n",
       "    </tr>\n",
       "    <tr>\n",
       "      <th>min</th>\n",
       "      <td>2.015000e+09</td>\n",
       "      <td>112526.000000</td>\n",
       "      <td>2.015000e+08</td>\n",
       "      <td>1.000000</td>\n",
       "      <td>0.000000</td>\n",
       "      <td>0.000000</td>\n",
       "      <td>112526.000000</td>\n",
       "    </tr>\n",
       "    <tr>\n",
       "      <th>25%</th>\n",
       "      <td>2.016001e+09</td>\n",
       "      <td>457759.000000</td>\n",
       "      <td>2.016000e+08</td>\n",
       "      <td>3.000000</td>\n",
       "      <td>1.000000</td>\n",
       "      <td>0.000000</td>\n",
       "      <td>462136.000000</td>\n",
       "    </tr>\n",
       "    <tr>\n",
       "      <th>50%</th>\n",
       "      <td>2.017001e+09</td>\n",
       "      <td>519317.000000</td>\n",
       "      <td>2.017000e+08</td>\n",
       "      <td>5.000000</td>\n",
       "      <td>2.000000</td>\n",
       "      <td>1.000000</td>\n",
       "      <td>534910.000000</td>\n",
       "    </tr>\n",
       "    <tr>\n",
       "      <th>75%</th>\n",
       "      <td>2.018000e+09</td>\n",
       "      <td>592273.000000</td>\n",
       "      <td>2.018000e+08</td>\n",
       "      <td>7.000000</td>\n",
       "      <td>2.000000</td>\n",
       "      <td>4.000000</td>\n",
       "      <td>592836.000000</td>\n",
       "    </tr>\n",
       "    <tr>\n",
       "      <th>max</th>\n",
       "      <td>2.018186e+09</td>\n",
       "      <td>673633.000000</td>\n",
       "      <td>2.018024e+08</td>\n",
       "      <td>19.000000</td>\n",
       "      <td>3.000000</td>\n",
       "      <td>25.000000</td>\n",
       "      <td>673633.000000</td>\n",
       "    </tr>\n",
       "  </tbody>\n",
       "</table>\n",
       "</div>"
      ],
      "text/plain": [
       "              ab_id      batter_id          g_id         inning  \\\n",
       "count  7.403890e+05  740389.000000  7.403890e+05  740389.000000   \n",
       "mean   2.016596e+09  520222.971504  2.016516e+08       5.008161   \n",
       "std    1.118980e+06   81257.093703  1.117423e+05       2.656350   \n",
       "min    2.015000e+09  112526.000000  2.015000e+08       1.000000   \n",
       "25%    2.016001e+09  457759.000000  2.016000e+08       3.000000   \n",
       "50%    2.017001e+09  519317.000000  2.017000e+08       5.000000   \n",
       "75%    2.018000e+09  592273.000000  2.018000e+08       7.000000   \n",
       "max    2.018186e+09  673633.000000  2.018024e+08      19.000000   \n",
       "\n",
       "                   o        p_score     pitcher_id  \n",
       "count  740389.000000  740389.000000  740389.000000  \n",
       "mean        1.676713       2.286258  526829.729136  \n",
       "std         0.954318       2.630178   78213.760533  \n",
       "min         0.000000       0.000000  112526.000000  \n",
       "25%         1.000000       0.000000  462136.000000  \n",
       "50%         2.000000       1.000000  534910.000000  \n",
       "75%         2.000000       4.000000  592836.000000  \n",
       "max         3.000000      25.000000  673633.000000  "
      ]
     },
     "execution_count": 85,
     "metadata": {},
     "output_type": "execute_result"
    }
   ],
   "source": [
    "print('atbats')\n",
    "atbatsDataSet.describe()"
   ]
  },
  {
   "cell_type": "markdown",
   "metadata": {},
   "source": [
    "缺失值统计信息如下列信息所示："
   ]
  },
  {
   "cell_type": "code",
   "execution_count": 86,
   "metadata": {},
   "outputs": [
    {
     "name": "stdout",
     "output_type": "stream",
     "text": [
      "player_names\n"
     ]
    },
    {
     "data": {
      "text/plain": [
       "id            0\n",
       "first_name    0\n",
       "last_name     0\n",
       "dtype: int64"
      ]
     },
     "execution_count": 86,
     "metadata": {},
     "output_type": "execute_result"
    }
   ],
   "source": [
    "print('player_names')\n",
    "player_namesDataSet.isna().sum()"
   ]
  },
  {
   "cell_type": "code",
   "execution_count": 87,
   "metadata": {},
   "outputs": [
    {
     "name": "stdout",
     "output_type": "stream",
     "text": [
      "pitches\n"
     ]
    },
    {
     "data": {
      "text/plain": [
       "px                 14189\n",
       "pz                 14189\n",
       "start_speed        14114\n",
       "end_speed          14114\n",
       "spin_rate          14189\n",
       "spin_dir           14189\n",
       "break_angle        14189\n",
       "break_length       14189\n",
       "break_y            14189\n",
       "ax                 14189\n",
       "ay                 14189\n",
       "az                 14189\n",
       "sz_bot              2083\n",
       "sz_top              2083\n",
       "type_confidence    14189\n",
       "vx0                14189\n",
       "vy0                14189\n",
       "vz0                14189\n",
       "x                      0\n",
       "x0                 14189\n",
       "y                      0\n",
       "y0                 14189\n",
       "z0                 14189\n",
       "pfx_x              14142\n",
       "pfx_z              14142\n",
       "nasty              14189\n",
       "zone               14189\n",
       "code                5719\n",
       "type                   0\n",
       "pitch_type         14189\n",
       "event_num              0\n",
       "b_score                0\n",
       "ab_id                  0\n",
       "b_count                0\n",
       "s_count                0\n",
       "outs                   0\n",
       "pitch_num              0\n",
       "on_1b                  0\n",
       "on_2b                  0\n",
       "on_3b                  0\n",
       "dtype: int64"
      ]
     },
     "execution_count": 87,
     "metadata": {},
     "output_type": "execute_result"
    }
   ],
   "source": [
    "print('pitches')\n",
    "pitchesDataSet.isna().sum()"
   ]
  },
  {
   "cell_type": "code",
   "execution_count": 88,
   "metadata": {},
   "outputs": [
    {
     "name": "stdout",
     "output_type": "stream",
     "text": [
      "games\n"
     ]
    },
    {
     "data": {
      "text/plain": [
       "attendance          0\n",
       "away_final_score    0\n",
       "away_team           0\n",
       "date                0\n",
       "elapsed_time        0\n",
       "g_id                0\n",
       "home_final_score    0\n",
       "home_team           0\n",
       "start_time          0\n",
       "umpire_1B           0\n",
       "umpire_2B           3\n",
       "umpire_3B           0\n",
       "umpire_HP           0\n",
       "venue_name          0\n",
       "weather             0\n",
       "wind                0\n",
       "delay               0\n",
       "dtype: int64"
      ]
     },
     "execution_count": 88,
     "metadata": {},
     "output_type": "execute_result"
    }
   ],
   "source": [
    "print('games')\n",
    "gamesDataSet.isna().sum()"
   ]
  },
  {
   "cell_type": "code",
   "execution_count": 89,
   "metadata": {},
   "outputs": [
    {
     "name": "stdout",
     "output_type": "stream",
     "text": [
      "ejections\n"
     ]
    },
    {
     "data": {
      "text/plain": [
       "ab_id             0\n",
       "des               0\n",
       "event_num         0\n",
       "g_id              0\n",
       "player_id         0\n",
       "date              0\n",
       "BS              366\n",
       "CORRECT         366\n",
       "team              0\n",
       "is_home_team      0\n",
       "dtype: int64"
      ]
     },
     "execution_count": 89,
     "metadata": {},
     "output_type": "execute_result"
    }
   ],
   "source": [
    "print('ejections')\n",
    "ejectionsDataSet.isna().sum()"
   ]
  },
  {
   "cell_type": "code",
   "execution_count": 90,
   "metadata": {},
   "outputs": [
    {
     "name": "stdout",
     "output_type": "stream",
     "text": [
      "atbats\n"
     ]
    },
    {
     "data": {
      "text/plain": [
       "ab_id         0\n",
       "batter_id     0\n",
       "event         0\n",
       "g_id          0\n",
       "inning        0\n",
       "o             0\n",
       "p_score       0\n",
       "p_throws      0\n",
       "pitcher_id    0\n",
       "stand         0\n",
       "top           0\n",
       "dtype: int64"
      ]
     },
     "execution_count": 90,
     "metadata": {},
     "output_type": "execute_result"
    }
   ],
   "source": [
    "print('atbats')\n",
    "atbatsDataSet.isna().sum()"
   ]
  },
  {
   "cell_type": "markdown",
   "metadata": {},
   "source": [
    "#### 1.1.3. 数据可视化  \n",
    "该部分主要通过数据的“直方图”“盒图”来进行数据的可视化，并通过这两类图进行离群点分析。"
   ]
  },
  {
   "cell_type": "markdown",
   "metadata": {},
   "source": [
    "**直方图**  \n",
    "由于关于标称属性的直方图在前面内容中已经体现出来了，所以此处将对数值属性进行直方图绘制。"
   ]
  },
  {
   "cell_type": "code",
   "execution_count": 91,
   "metadata": {},
   "outputs": [],
   "source": [
    "def plotHist(data, colName, divisionNum=20):\n",
    "    col = data[colName].dropna()\n",
    "    plt.hist(col, divisionNum)\n",
    "    plt.title(colName)\n",
    "    plt.show()"
   ]
  },
  {
   "cell_type": "markdown",
   "metadata": {},
   "source": [
    "数据集player_names.csv无数值属性。"
   ]
  },
  {
   "cell_type": "markdown",
   "metadata": {},
   "source": [
    "对于数据集pitches.csv："
   ]
  },
  {
   "cell_type": "code",
   "execution_count": 92,
   "metadata": {},
   "outputs": [
    {
     "data": {
      "image/png": "[encoded data removed]",
      "text/plain": [
       "<Figure size 432x288 with 1 Axes>"
      ]
     },
     "metadata": {},
     "output_type": "display_data"
    }
   ],
   "source": [
    "attributeName = 'px'\n",
    "plotHist(pitchesDataSet, attributeName)"
   ]
  },
  {
   "cell_type": "code",
   "execution_count": 93,
   "metadata": {},
   "outputs": [
    {
     "data": {
      "image/png": "[encoded data removed]",
      "text/plain": [
       "<Figure size 432x288 with 1 Axes>"
      ]
     },
     "metadata": {},
     "output_type": "display_data"
    }
   ],
   "source": [
    "attributeName = 'pz'\n",
    "plotHist(pitchesDataSet, attributeName)"
   ]
  },
  {
   "cell_type": "markdown",
   "metadata": {},
   "source": [
    "对于数据集games.csv："
   ]
  },
  {
   "cell_type": "code",
   "execution_count": 94,
   "metadata": {},
   "outputs": [
    {
     "data": {
      "image/png": "[encoded data removed]",
      "text/plain": [
       "<Figure size 432x288 with 1 Axes>"
      ]
     },
     "metadata": {},
     "output_type": "display_data"
    }
   ],
   "source": [
    "attributeName = 'elapsed_time'\n",
    "plotHist(gamesDataSet, attributeName)"
   ]
  },
  {
   "cell_type": "markdown",
   "metadata": {},
   "source": [
    "对于数据集ejections.csv："
   ]
  },
  {
   "cell_type": "code",
   "execution_count": 95,
   "metadata": {},
   "outputs": [
    {
     "data": {
      "image/png": "[encoded data removed]",
      "text/plain": [
       "<Figure size 432x288 with 1 Axes>"
      ]
     },
     "metadata": {},
     "output_type": "display_data"
    }
   ],
   "source": [
    "attributeName = 'event_num'\n",
    "plotHist(ejectionsDataSet, attributeName)"
   ]
  },
  {
   "cell_type": "markdown",
   "metadata": {},
   "source": [
    "数据集atbats.csv无数值属性。"
   ]
  },
  {
   "cell_type": "markdown",
   "metadata": {},
   "source": [
    "**盒图**"
   ]
  },
  {
   "cell_type": "markdown",
   "metadata": {},
   "source": [
    "首先我们定义函数“boxPlot”用以对特定数据集下特定列的盒图进行绘制"
   ]
  },
  {
   "cell_type": "code",
   "execution_count": 96,
   "metadata": {},
   "outputs": [],
   "source": [
    "def boxPlot(data, colName):\n",
    "    fig, ax = plt.subplots()\n",
    "    ax.set_title(colName)\n",
    "    ax.boxplot(data[colName].dropna())\n",
    "    plt.show()"
   ]
  },
  {
   "cell_type": "markdown",
   "metadata": {},
   "source": [
    "对于数据集pitches.csv："
   ]
  },
  {
   "cell_type": "markdown",
   "metadata": {},
   "source": [
    "绘制“px”的属性："
   ]
  },
  {
   "cell_type": "code",
   "execution_count": 97,
   "metadata": {},
   "outputs": [
    {
     "data": {
      "image/png": "[encoded data removed]",
      "text/plain": [
       "<Figure size 432x288 with 1 Axes>"
      ]
     },
     "metadata": {},
     "output_type": "display_data"
    }
   ],
   "source": [
    "attributeName = 'px'\n",
    "boxPlot(pitchesDataSet, attributeName)"
   ]
  },
  {
   "cell_type": "markdown",
   "metadata": {},
   "source": [
    "由上图可以看出，关于“px”属性的离群点均匀分布在数据集中区域的两侧。"
   ]
  },
  {
   "cell_type": "markdown",
   "metadata": {},
   "source": [
    "绘制“pz”的属性："
   ]
  },
  {
   "cell_type": "code",
   "execution_count": 98,
   "metadata": {},
   "outputs": [
    {
     "data": {
      "image/png": "[encoded data removed]",
      "text/plain": [
       "<Figure size 432x288 with 1 Axes>"
      ]
     },
     "metadata": {},
     "output_type": "display_data"
    }
   ],
   "source": [
    "attributeName = 'pz'\n",
    "boxPlot(pitchesDataSet, attributeName)"
   ]
  },
  {
   "cell_type": "markdown",
   "metadata": {},
   "source": [
    "由上图可以看出，关于“pz”属性的离群点均匀分布在数据集中区域的两侧。"
   ]
  },
  {
   "cell_type": "markdown",
   "metadata": {},
   "source": [
    "对于数据集games.csv："
   ]
  },
  {
   "cell_type": "markdown",
   "metadata": {},
   "source": [
    "绘制“elapsed_time”的属性："
   ]
  },
  {
   "cell_type": "code",
   "execution_count": 99,
   "metadata": {},
   "outputs": [
    {
     "data": {
      "image/png": "[encoded data removed]",
      "text/plain": [
       "<Figure size 432x288 with 1 Axes>"
      ]
     },
     "metadata": {},
     "output_type": "display_data"
    }
   ],
   "source": [
    "attributeName = 'elapsed_time'\n",
    "boxPlot(gamesDataSet, attributeName)"
   ]
  },
  {
   "cell_type": "markdown",
   "metadata": {},
   "source": [
    "由上图可以看出，关于“elapsed_time”属性的离群点分布在数据集中区域的两侧。"
   ]
  },
  {
   "cell_type": "markdown",
   "metadata": {},
   "source": [
    "对于数据集ejections.csv："
   ]
  },
  {
   "cell_type": "markdown",
   "metadata": {},
   "source": [
    "绘制“event_num”的属性："
   ]
  },
  {
   "cell_type": "code",
   "execution_count": 100,
   "metadata": {},
   "outputs": [
    {
     "data": {
      "image/png": "[encoded data removed]",
      "text/plain": [
       "<Figure size 432x288 with 1 Axes>"
      ]
     },
     "metadata": {},
     "output_type": "display_data"
    }
   ],
   "source": [
    "attributeName = 'event_num'\n",
    "boxPlot(ejectionsDataSet, attributeName)"
   ]
  },
  {
   "cell_type": "markdown",
   "metadata": {},
   "source": [
    "由上图可以看出，关于“px”属性的离群点均匀分布在数据集中区域的上侧。"
   ]
  },
  {
   "cell_type": "markdown",
   "metadata": {},
   "source": [
    "### 1.2. 数据缺失的处理"
   ]
  },
  {
   "cell_type": "markdown",
   "metadata": {},
   "source": [
    "### 1.2.1 将缺失部分剔除"
   ]
  },
  {
   "cell_type": "markdown",
   "metadata": {},
   "source": [
    "首先我们需要查看一下原数据中缺失数据的数据量"
   ]
  },
  {
   "cell_type": "markdown",
   "metadata": {},
   "source": [
    "我们定义函数\"plotOldNewStandard\"和\"plotOldNewStandardNominal\"分别用于数值属性和标称属性，对处理前的数据、处理后的数据进行对比："
   ]
  },
  {
   "cell_type": "code",
   "execution_count": 101,
   "metadata": {},
   "outputs": [],
   "source": [
    "def plotOldNewStandard(colOld, colNew, colName, showOld=True, divisionNum=20):\n",
    "    \n",
    "    colOld = colOld.dropna()\n",
    "    colNew = colNew.dropna()\n",
    "    if showOld:\n",
    "        plt.figure(12)\n",
    "        plt.subplot(121)\n",
    "        plt.hist(colOld, divisionNum)\n",
    "        plt.title(colName + ' Old')\n",
    "\n",
    "        plt.subplot(122)\n",
    "        plt.hist(colNew, divisionNum)\n",
    "        plt.title(colName + ' New')\n",
    "\n",
    "        plt.tight_layout()\n",
    "        plt.show()\n",
    "    else:\n",
    "        plt.figure(11)\n",
    "        plt.subplot(111)\n",
    "        plt.hist(colNew, divisionNum)\n",
    "        plt.title(colName + ' New')\n",
    "        \n",
    "        plt.tight_layout()\n",
    "        plt.show()\n",
    "\n",
    "def plotOldNewStandardNominal(colOld, colNew, colName, showOld=True, top=10, divisionNum=20):\n",
    "    \n",
    "    colOld = colOld.value_counts()\n",
    "    colNew = colNew.value_counts()\n",
    "    \n",
    "    if showOld:\n",
    "        plt.figure(12)\n",
    "        \n",
    "        plt.subplot(121)\n",
    "        plt.bar(np.arange(top), colOld.iloc[:top])\n",
    "        plt.title(colName + ' Old')\n",
    "        \n",
    "        plt.subplot(122)\n",
    "        plt.bar(np.arange(top), colNew.iloc[:top])#plt.hist(colNew, divisionNum)\n",
    "        plt.title(colName + ' New')\n",
    "\n",
    "        plt.tight_layout()\n",
    "        plt.show()\n",
    "    else:\n",
    "        plt.figure(11)\n",
    "        plt.subplot(111)\n",
    "        plt.bar(np.arange(top), colNew.iloc[:top])#plt.hist(colNew, divisionNum)\n",
    "        plt.title(colName + ' New')\n",
    "        \n",
    "        plt.tight_layout()\n",
    "        plt.show()\n"
   ]
  },
  {
   "cell_type": "markdown",
   "metadata": {},
   "source": [
    "对于数据集pitches.csv："
   ]
  },
  {
   "cell_type": "markdown",
   "metadata": {},
   "source": [
    "对于属性“px”："
   ]
  },
  {
   "cell_type": "code",
   "execution_count": 102,
   "metadata": {},
   "outputs": [
    {
     "name": "stdout",
     "output_type": "stream",
     "text": [
      "nan size: 14189\n"
     ]
    }
   ],
   "source": [
    "attributeName = 'px'\n",
    "col = pitchesDataSet[attributeName]\n",
    "\n",
    "print('nan size:', col.isna().sum())"
   ]
  },
  {
   "cell_type": "markdown",
   "metadata": {},
   "source": [
    "剔除该属性中的缺失值："
   ]
  },
  {
   "cell_type": "code",
   "execution_count": 103,
   "metadata": {},
   "outputs": [
    {
     "data": {
      "image/png": "[encoded data removed]",
      "text/plain": [
       "<Figure size 432x288 with 1 Axes>"
      ]
     },
     "metadata": {},
     "output_type": "display_data"
    }
   ],
   "source": [
    "colOld = pitchesDataSet[attributeName]\n",
    "colNew = colOld.dropna()\n",
    "plotOldNewStandardNominal(colOld=colOld, colNew=colNew, colName=attributeName, showOld=False)"
   ]
  },
  {
   "cell_type": "markdown",
   "metadata": {},
   "source": [
    "对于属性“pz”："
   ]
  },
  {
   "cell_type": "code",
   "execution_count": 104,
   "metadata": {},
   "outputs": [
    {
     "name": "stdout",
     "output_type": "stream",
     "text": [
      "nan size: 14189\n"
     ]
    }
   ],
   "source": [
    "attributeName = 'pz'\n",
    "col = pitchesDataSet[attributeName]\n",
    "\n",
    "print('nan size:', col.isna().sum())"
   ]
  },
  {
   "cell_type": "markdown",
   "metadata": {},
   "source": [
    "剔除该属性中的缺失值:"
   ]
  },
  {
   "cell_type": "code",
   "execution_count": 105,
   "metadata": {},
   "outputs": [
    {
     "data": {
      "image/png": "[encoded data removed]",
      "text/plain": [
       "<Figure size 432x288 with 1 Axes>"
      ]
     },
     "metadata": {},
     "output_type": "display_data"
    }
   ],
   "source": [
    "colOld = pitchesDataSet[attributeName]\n",
    "colNew = colOld.dropna()\n",
    "plotOldNewStandardNominal(colOld=colOld, colNew=colNew, colName=attributeName, showOld=False)"
   ]
  },
  {
   "cell_type": "markdown",
   "metadata": {},
   "source": [
    "对于数据集games："
   ]
  },
  {
   "cell_type": "markdown",
   "metadata": {},
   "source": [
    "对于属性“elapsed_time”："
   ]
  },
  {
   "cell_type": "code",
   "execution_count": 106,
   "metadata": {},
   "outputs": [
    {
     "name": "stdout",
     "output_type": "stream",
     "text": [
      "nan size: 0\n"
     ]
    }
   ],
   "source": [
    "attributeName = 'elapsed_time'\n",
    "col = gamesDataSet[attributeName]\n",
    "\n",
    "print('nan size:', col.isna().sum())"
   ]
  },
  {
   "cell_type": "markdown",
   "metadata": {},
   "source": [
    "因而该属性不需要清理，之后将不再考虑。"
   ]
  },
  {
   "cell_type": "markdown",
   "metadata": {},
   "source": [
    "对于属性“away_team”："
   ]
  },
  {
   "cell_type": "code",
   "execution_count": 107,
   "metadata": {},
   "outputs": [
    {
     "name": "stdout",
     "output_type": "stream",
     "text": [
      "nan size: 0\n"
     ]
    }
   ],
   "source": [
    "attributeName = 'away_team'\n",
    "col = gamesDataSet[attributeName]\n",
    "\n",
    "print('nan size:', col.isna().sum())"
   ]
  },
  {
   "cell_type": "markdown",
   "metadata": {},
   "source": [
    "因而该属性不需要清理，之后将不再考虑。"
   ]
  },
  {
   "cell_type": "markdown",
   "metadata": {},
   "source": [
    "对于数据集ejections.csv："
   ]
  },
  {
   "cell_type": "markdown",
   "metadata": {},
   "source": [
    "对于属性“event_num”："
   ]
  },
  {
   "cell_type": "code",
   "execution_count": 108,
   "metadata": {},
   "outputs": [
    {
     "name": "stdout",
     "output_type": "stream",
     "text": [
      "nan size: 0\n"
     ]
    }
   ],
   "source": [
    "attributeName = 'event_num'\n",
    "col = ejectionsDataSet[attributeName]\n",
    "\n",
    "print('nan size:', col.isna().sum())"
   ]
  },
  {
   "cell_type": "markdown",
   "metadata": {},
   "source": [
    "因而该属性不需要清理，之后将不再考虑。"
   ]
  },
  {
   "cell_type": "markdown",
   "metadata": {},
   "source": [
    "对于属性“team”："
   ]
  },
  {
   "cell_type": "code",
   "execution_count": 109,
   "metadata": {},
   "outputs": [
    {
     "name": "stdout",
     "output_type": "stream",
     "text": [
      "nan size: 0\n"
     ]
    }
   ],
   "source": [
    "attributeName = 'team'\n",
    "col = ejectionsDataSet[attributeName]\n",
    "\n",
    "print('nan size:', col.isna().sum())"
   ]
  },
  {
   "cell_type": "markdown",
   "metadata": {},
   "source": [
    "因而该属性不需要清理，之后将不再考虑。"
   ]
  },
  {
   "cell_type": "markdown",
   "metadata": {},
   "source": [
    "对于数据集atbats.csv："
   ]
  },
  {
   "cell_type": "markdown",
   "metadata": {},
   "source": [
    "对于属性“event”："
   ]
  },
  {
   "cell_type": "code",
   "execution_count": 110,
   "metadata": {},
   "outputs": [
    {
     "name": "stdout",
     "output_type": "stream",
     "text": [
      "nan size: 0\n"
     ]
    }
   ],
   "source": [
    "attributeName = 'event'\n",
    "col = atbatsDataSet[attributeName]\n",
    "\n",
    "print('nan size:', col.isna().sum())"
   ]
  },
  {
   "cell_type": "markdown",
   "metadata": {},
   "source": [
    "因而该属性不需要清理，之后将不再考虑。"
   ]
  },
  {
   "cell_type": "markdown",
   "metadata": {},
   "source": [
    "### 1.2.2 用最高频率值来填补缺失值"
   ]
  },
  {
   "cell_type": "markdown",
   "metadata": {},
   "source": [
    "对于pitches.csv中的属性“px”，处理方法如下："
   ]
  },
  {
   "cell_type": "code",
   "execution_count": 111,
   "metadata": {},
   "outputs": [],
   "source": [
    "attributeName = 'px'"
   ]
  },
  {
   "cell_type": "markdown",
   "metadata": {},
   "source": [
    "将该属性处理前的数据、处理后的数据进行可视化对比："
   ]
  },
  {
   "cell_type": "code",
   "execution_count": 112,
   "metadata": {},
   "outputs": [
    {
     "data": {
      "image/png": "[encoded data removed]",
      "text/plain": [
       "<Figure size 432x288 with 2 Axes>"
      ]
     },
     "metadata": {},
     "output_type": "display_data"
    }
   ],
   "source": [
    "colOld = pitchesDataSet[attributeName]\n",
    "colNew = colOld.fillna(colOld.mode()[0])\n",
    "plotOldNewStandard(colOld=colOld, colNew=colNew, colName=attributeName, showOld=True)"
   ]
  },
  {
   "cell_type": "markdown",
   "metadata": {},
   "source": [
    "对于属性“pz”，处理方法如下："
   ]
  },
  {
   "cell_type": "code",
   "execution_count": 113,
   "metadata": {},
   "outputs": [],
   "source": [
    "attributeName = 'pz'"
   ]
  },
  {
   "cell_type": "markdown",
   "metadata": {},
   "source": [
    "将该属性处理前的数据、处理后的数据以及winemag-data-130k-v2该属性的数据进行可视化对比："
   ]
  },
  {
   "cell_type": "code",
   "execution_count": 114,
   "metadata": {},
   "outputs": [
    {
     "data": {
      "image/png": "[encoded data removed]",
      "text/plain": [
       "<Figure size 432x288 with 2 Axes>"
      ]
     },
     "metadata": {},
     "output_type": "display_data"
    }
   ],
   "source": [
    "colOld = pitchesDataSet[attributeName]\n",
    "colNew = colOld.fillna(colOld.mode()[0])\n",
    "plotOldNewStandard(colOld=colOld, colNew=colNew, colName=attributeName, showOld=True)"
   ]
  },
  {
   "cell_type": "markdown",
   "metadata": {},
   "source": [
    "### 1.2.3 通过属性的相关关系来填补缺失值"
   ]
  },
  {
   "cell_type": "markdown",
   "metadata": {},
   "source": [
    "对于属性“away_final_score”，处理方法如下："
   ]
  },
  {
   "cell_type": "code",
   "execution_count": 115,
   "metadata": {},
   "outputs": [
    {
     "data": {
      "image/png": "[encoded data removed]",
      "text/plain": [
       "<Figure size 432x288 with 1 Axes>"
      ]
     },
     "metadata": {},
     "output_type": "display_data"
    }
   ],
   "source": [
    "new_df = gamesDataSet.dropna(subset=['away_final_score'])\n",
    "new_df.plot(kind=\"scatter\", x=\"elapsed_time\", y=\"away_final_score\", alpha=0.05)\n",
    "x = new_df['elapsed_time']\n",
    "y = new_df['away_final_score']\n",
    "\n",
    "cutLen = 1000\n",
    "from sklearn.linear_model import LinearRegression\n",
    "\n",
    "X = np.array(x).reshape(-1, 1)\n",
    "X = X[:cutLen]\n",
    "y = y[:cutLen]\n",
    "\n",
    "model = LinearRegression()\n",
    "model.fit(X, y)\n",
    "\n",
    "plt.plot(X, model.predict(X), 'r-')\n",
    "plt.ylim(0,300)\n",
    "plt.show()\n"
   ]
  },
  {
   "cell_type": "markdown",
   "metadata": {},
   "source": [
    "由上图可知，属性elapsed_time和away_final_score之间具有线性相关性,因此我们建立线性回归模型，通过elapsed_time来预测away_final_score的值, 并将该属性处理前的数据、处理后的数据进行可视化对比："
   ]
  },
  {
   "cell_type": "code",
   "execution_count": 116,
   "metadata": {},
   "outputs": [
    {
     "data": {
      "image/png": "[encoded data removed]",
      "text/plain": [
       "<Figure size 432x288 with 2 Axes>"
      ]
     },
     "metadata": {},
     "output_type": "display_data"
    }
   ],
   "source": [
    "gamesDataSetNew = gamesDataSet.copy()\n",
    "for index, row in gamesDataSetNew[gamesDataSet['away_final_score'].isna()].iterrows():\n",
    "    row['away_final_score'] = model.predict(np.array(row['elapsed_time']).reshape(-1, 1))\n",
    "    \n",
    "attributeName = 'away_final_score'\n",
    "colOld = gamesDataSet[attributeName]\n",
    "colNew = gamesDataSet[attributeName]\n",
    "\n",
    "plotOldNewStandard(colOld=colOld, colNew=colNew, colName=attributeName, showOld=True)"
   ]
  },
  {
   "cell_type": "markdown",
   "metadata": {},
   "source": [
    "### 1.2.4 通过数据对象之间的相似性来填补缺失值\n",
    "由于标称属性之间很难进行相似性的度量，因此本处将利用points属性的相近程度，从而进行price属性的缺失值填充："
   ]
  },
  {
   "cell_type": "code",
   "execution_count": 117,
   "metadata": {},
   "outputs": [],
   "source": [
    "simFill = gamesDataSet.copy()\n",
    "point2price = {}\n",
    "for row in simFill.iterrows():\n",
    "    if point2price.get(row[1]['elapsed_time'], None):\n",
    "        if not pd.isnull(row[1]['away_final_score']):\n",
    "            point2price[row[1]['elapsed_time']][0] += row[1]['away_final_score']\n",
    "            point2price[row[1]['elapsed_time']][1] += 1\n",
    "    else:\n",
    "        if not pd.isnull(row[1]['away_final_score']):\n",
    "            point2price[row[1]['elapsed_time']] = [row[1]['away_final_score'], 1]\n",
    "    \n",
    "for k in point2price.keys():\n",
    "    point2price[k][0] = round(point2price[k][0] / point2price[k][1], 4)\n",
    "    \n",
    "for row in simFill.iterrows():\n",
    "    if pd.isnull(row[1]['away_final_score']):\n",
    "        row[1]['away_final_score'] = point2price[row[1]['elapsed_time']][0]\n",
    "        \n"
   ]
  },
  {
   "cell_type": "code",
   "execution_count": 118,
   "metadata": {},
   "outputs": [
    {
     "data": {
      "image/png": "[encoded data removed]",
      "text/plain": [
       "<Figure size 432x288 with 2 Axes>"
      ]
     },
     "metadata": {},
     "output_type": "display_data"
    }
   ],
   "source": [
    "colOld = gamesDataSet['away_final_score']\n",
    "colNew = simFill['away_final_score']\n",
    "plotOldNewStandard(colOld=colOld, colNew=colNew, colName=attributeName, showOld=True)"
   ]
  },
  {
   "cell_type": "code",
   "execution_count": null,
   "metadata": {},
   "outputs": [],
   "source": []
  }
 ],
 "metadata": {
  "kernelspec": {
   "display_name": "Python 3",
   "language": "python",
   "name": "python3"
  },
  "language_info": {
   "codemirror_mode": {
    "name": "ipython",
    "version": 3
   },
   "file_extension": ".py",
   "mimetype": "text/x-python",
   "name": "python",
   "nbconvert_exporter": "python",
   "pygments_lexer": "ipython3",
   "version": "3.6.5"
  }
 },
 "nbformat": 4,
 "nbformat_minor": 2
}
